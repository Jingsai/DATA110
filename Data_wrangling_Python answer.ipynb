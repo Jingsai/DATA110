{
 "cells": [
  {
   "cell_type": "markdown",
   "metadata": {},
   "source": [
    "# An introduction to data wrangling with Python and `pandas`"
   ]
  },
  {
   "cell_type": "markdown",
   "metadata": {},
   "source": [
    "## Your name goes here. (Double-click on this cell to edit it.)"
   ]
  },
  {
   "cell_type": "markdown",
   "metadata": {},
   "source": [
    "## Objectives"
   ]
  },
  {
   "cell_type": "markdown",
   "metadata": {},
   "source": [
    "In this activity we will use the `pandas` library of Python tools to analyze a DataFrame. Learning outcomes include the following:\n",
    "\n",
    "* You will become familiar with the Jupyter notebook interface and Markdown.\n",
    "* You will import and use Python libraries.\n",
    "* You will learn to load data into the Jupyter Notebook environment.\n",
    "* You will practice some basic data cleaning and wrangling techniques.\n",
    "* You will learn about the concept of \"tidy\" data."
   ]
  },
  {
   "cell_type": "markdown",
   "metadata": {},
   "source": [
    "### A note about the data in this activity\n",
    "\n",
    "The data originally comes from [Gapminder](https://www.gapminder.org/) which describes it self as \"a fact tank [that] fights devastating misconceptions about global development...making the world understandable based on reliable statistics\". It has been processed lightly by the [Data Carpentry](http://www.datacarpentry.org/) community for data analysis activities. This activity is heavily based on the Data Exploration lesson developed by the Data Carpentry community."
   ]
  },
  {
   "cell_type": "markdown",
   "metadata": {},
   "source": [
    "## The Jupyter notebook"
   ]
  },
  {
   "cell_type": "markdown",
   "metadata": {},
   "source": [
    "[Project Jupyter](http://jupyter.org/) is a non-profit, open-source project whose goal is to support interactive data science and scientific computing across all programming languages. According to their website,\n",
    "\n",
    "> The Jupyter Notebook is an open-source web application that allows you to create and share documents that contain live code, equations, visualizations and narrative text. Uses include: data cleaning and transformation, numerical simulation, statistical modeling, data visualization, machine learning, and much more.\n",
    "\n",
    "CoCalc supports Jupyter notebooks by allowing you to create and edit them in your browser while saving, tracking, and backing up your files in the cloud.\n",
    "\n",
    "Jupyter notebooks are organized into cells. There are two types of cells we'll use:"
   ]
  },
  {
   "cell_type": "markdown",
   "metadata": {},
   "source": [
    "1. Code cells:"
   ]
  },
  {
   "cell_type": "code",
   "execution_count": 1,
   "metadata": {
    "collapsed": false,
    "jupyter": {
     "outputs_hidden": false
    }
   },
   "outputs": [
    {
     "data": {
      "text/plain": [
       "4"
      ]
     },
     "execution_count": 1,
     "metadata": {},
     "output_type": "execute_result"
    }
   ],
   "source": [
    "# This is a code cell.\n",
    "2+2"
   ]
  },
  {
   "cell_type": "markdown",
   "metadata": {},
   "source": [
    "These are cells that run Python code. They are easy to spot because they have an input box labeled with `In []` with a number inside the brackets. The number represents the order in which the cells have been executed.\n",
    "\n",
    "When you see the number sign `#` (or hashtag as the kids are calling it these days), that indicates a code \"comment\". This is text that appears inside a code cell, but will not be treated as code to run by Python. Of course that means that any code you *do* want to run needs to appear on its own line, without the number sign.\n",
    "\n",
    "Click inside the cell above where it says `2+2`. Change it to `3+3`. Hit Ctrl-Enter. (Usually, the Mac equivalent of Ctrl-Enter is Cmd-Enter, but even on a Mac **you need to use Ctrl-Enter!**) This will execute the code in the cell again. Notice that when the code runs again, the number in brackets to the left updates. Don't worry too much about this number. The output (when there is output to be printed) will appear right below the input."
   ]
  },
  {
   "cell_type": "markdown",
   "metadata": {},
   "source": [
    "2. Markdown cells:"
   ]
  },
  {
   "cell_type": "markdown",
   "metadata": {},
   "source": [
    "This is a Markdown cell. In fact, all the cells in this document that contain text are Markdown cells. To see the structure of this cell, double-click somewhere on top of this text. This will show you the plain text that generates the pretty, formatted text in the document. To get back to the formatted text, just hit Ctrl-Enter.\n",
    "\n",
    "Double-clicking will also show you some formatting tricks that Markdown uses. After looking at the plain text, be sure to hit Ctrl-Enter to go back to the formatted text.\n",
    "\n",
    "*italics*\n",
    "\n",
    "**bold**\n",
    "\n",
    "***bold italics***\n",
    "\n",
    "~~strikethrough~~\n",
    "\n",
    "`code`\n",
    "\n",
    "> blockquotes\n",
    "\n",
    "Horizontal rules:\n",
    "***\n",
    "\n",
    "[Web links](http://eelslap.com/)\n",
    "\n",
    "* Bullet-\n",
    "* pointed\n",
    "* lists\n",
    "  * with\n",
    "  * indented\n",
    "    * outline\n",
    "    * capabilities\n",
    "\n",
    "1. Numbered\n",
    "2. Lists\n",
    "\n",
    "Inline math: The quadratic fomula says $x = \\frac{-b \\pm \\sqrt{b^{2} - 4ac}}{2a}$.\n",
    "\n",
    "Displayed math:\n",
    "\n",
    "$$i\\hbar \\frac{\\partial}{\\partial t}\\lvert \\Psi(\\mathbf{r}, t) \\rangle = \\hat{H} \\lvert \\Psi(\\mathbf{r}, t) \\rangle$$"
   ]
  },
  {
   "cell_type": "markdown",
   "metadata": {},
   "source": [
    "### Edit mode versus command mode: **VERY IMPORTANT!**"
   ]
  },
  {
   "cell_type": "markdown",
   "metadata": {},
   "source": [
    "**It is very important that you double-click on Markdown cells before trying to edit them!** Double-clicking puts you in \"edit\" mode and allows you to type. You can tell you're in edit mode because the left edge of the cell is green. If you single-click only, the cell's left edge will be blue. This means you're still in \"command\" mode. In command mode, the keyboard is assigned to various tasks like creating or deleting cells. Doing this by accident is very bad because it messes up your document. **Again, do not type anything on the keyboard until you're absolutely sure you're in edit mode. (Look for the green edge on the left!)**"
   ]
  },
  {
   "cell_type": "markdown",
   "metadata": {},
   "source": [
    "## Python"
   ]
  },
  {
   "cell_type": "markdown",
   "metadata": {},
   "source": [
    "Python a popular programming language that is increasingly common in data science applications (and other sectors as well). The goal here is not to make you fluent in Python, or even really to teach you that much about computer programming. This assignment is to help familiarize you with some of the data processing tools found in Python.\n",
    "\n",
    "You can learn more about Python here: https://www.python.org/"
   ]
  },
  {
   "cell_type": "markdown",
   "metadata": {},
   "source": [
    "### Python libraries"
   ]
  },
  {
   "cell_type": "markdown",
   "metadata": {},
   "source": [
    "A library in Python contains a set of tools (called functions) that perform tasks on our data. Instead of having to write all the functions yourself, someone else has written them for you.\n",
    "\n",
    "Python doesn’t load all of the libraries available to it by default&mdash;that would be too inefficient. We have to add an `import` statement to our code in order to use library functions. To import a library, we use the syntax:\n",
    "\n",
    "```\n",
    "import libraryName\n",
    "```\n",
    "\n",
    "If we want to give the library a nickname to shorten the commands you need to type, we can do it like this:\n",
    "\n",
    "```\n",
    "import libraryName as nickname\n",
    "```\n",
    "\n",
    "Below is an example of importing the `pandas` library using the very common nickname `pd`. (Since we will be using `pandas`, this command occurs in a code cell later that we will actually run.)\n",
    "\n",
    "```\n",
    "import pandas as pd\n",
    "```"
   ]
  },
  {
   "cell_type": "markdown",
   "metadata": {},
   "source": [
    "### The `pandas` library"
   ]
  },
  {
   "cell_type": "markdown",
   "metadata": {},
   "source": [
    "One of the best options for working with tabular data in Python is to use the Python Data Analysis Library (a.k.a. [pandas](http://pandas.pydata.org/)). The `pandas` library provides data structures, produces high quality plots, and integrates nicely with other libraries.\n",
    "\n",
    "One of the best parts of the `pandas` library is that the developers have made it as easy to use as possible. The [documentation](http://pandas.pydata.org/pandas-docs/stable/index.html) is great, and they even made a [cheat sheet](https://github.com/pandas-dev/pandas/raw/master/doc/cheatsheet/Pandas_Cheat_Sheet.pdf) that has a lot of useful info!"
   ]
  },
  {
   "cell_type": "markdown",
   "metadata": {},
   "source": [
    "#### Run the following code cell by clicking on it and then hitting Ctrl-Enter."
   ]
  },
  {
   "cell_type": "code",
   "execution_count": 2,
   "metadata": {
    "collapsed": false,
    "jupyter": {
     "outputs_hidden": false
    }
   },
   "outputs": [],
   "source": [
    "import pandas as pd"
   ]
  },
  {
   "cell_type": "markdown",
   "metadata": {},
   "source": [
    "Each time we call a function that’s in a library, we use the following syntax:\n",
    "\n",
    "```\n",
    "LibraryName.FunctionName\n",
    "```\n",
    "\n",
    "Adding the library name with a `.` before the function name tells Python where to find the function. In the example above, we have imported `pandas` as `pd`. This means we don’t have to type out \"`pandas`\" each time we call a `pandas` function; we can just type `pd` as the `LibraryName`.\n",
    "\n",
    "We will begin by locating and reading in our data in the section below."
   ]
  },
  {
   "cell_type": "markdown",
   "metadata": {},
   "source": [
    "## Loading data"
   ]
  },
  {
   "cell_type": "markdown",
   "metadata": {},
   "source": [
    "### What is a DataFrame?\n",
    "\n",
    "A DataFrame is a 2-dimensional data structure (rows and columns) that can store data of different types. It is similar to a spreadsheet or a data frame in R.\n",
    "\n",
    "To use a `pandas` DataFrame, you'll need to read in the data from a file. The most common file format you'll encounter is a CSV (\"comma separated values\") file. Any program that allows you to manipulate data (like Excel, for example) will allow you to save/export files in the CSV format. From time to time, you'll have to read in files in a different format."
   ]
  },
  {
   "cell_type": "markdown",
   "metadata": {},
   "source": [
    "### The `gapminder` data\n",
    "\n",
    "In your assignment folder is a file called `gapminderDataFiveYear_superDirty.txt`. This data is stored as a text file that happpens to be \"tab separated\" (meaning that the data values are separated by tabs rather than commas).\n",
    "\n",
    "For CSV files, you use the `read_csv()` function from `pandas` to import data into Python. In our case, though, we'll use the more general `read_table()` function. We'll need an additional argument, `sep = '\\t'` to tell the function to look for tabs between our data values."
   ]
  },
  {
   "cell_type": "markdown",
   "metadata": {},
   "source": [
    "#### Run the following code to read in the data and assign it to the variable `gapminder`."
   ]
  },
  {
   "cell_type": "code",
   "execution_count": 3,
   "metadata": {
    "collapsed": false,
    "jupyter": {
     "outputs_hidden": false
    }
   },
   "outputs": [],
   "source": [
    "# Run this code to assign the variable 'gapminder' to the entire dataset.\n",
    "gapminder = pd.read_table(\"gapminderDataFiveYear_superDirty.txt\", sep = '\\t')"
   ]
  },
  {
   "cell_type": "markdown",
   "metadata": {},
   "source": [
    "(The code worked silently in the background, so you should see no output. So how do you know if it worked? Check for the number on the left side of the cell in the brackets where it says `In []`. If there's a number there and you didn't otherwise get some kind of error message, then it worked.)"
   ]
  },
  {
   "cell_type": "markdown",
   "metadata": {},
   "source": [
    "***"
   ]
  },
  {
   "cell_type": "markdown",
   "metadata": {},
   "source": [
    "#### In the command above, why did we use `pd.read_table()`, not just `read_table()`? (Try `read_table` alone to see!)\n",
    "\n",
    "**(Remember to double-click on the cell below&mdash;where it says \"*Type your answer here*\"&mdash;to put the worksheet into \"edit\" mode before you start typing your answer!)**"
   ]
  },
  {
   "cell_type": "markdown",
   "metadata": {},
   "source": [
    "*Type your answer here.*"
   ]
  },
  {
   "cell_type": "markdown",
   "metadata": {},
   "source": [
    "#### Could we use `pandas.read_table()` instead of `pd.read_table()`? (Again, try it and find out!)"
   ]
  },
  {
   "cell_type": "markdown",
   "metadata": {},
   "source": [
    "*Type your answer here.*"
   ]
  },
  {
   "cell_type": "markdown",
   "metadata": {},
   "source": [
    "***"
   ]
  },
  {
   "cell_type": "markdown",
   "metadata": {},
   "source": [
    "Now we have a DataFrame called `gapminder` with all of our data in it! One of the first things we do after importing data is to have a quick look and make sure we see what we think we should see."
   ]
  },
  {
   "cell_type": "markdown",
   "metadata": {},
   "source": [
    "#### Type the name of the DataFrame in the cell below and run the code to see what happens."
   ]
  },
  {
   "cell_type": "code",
   "execution_count": 4,
   "metadata": {
    "collapsed": false,
    "jupyter": {
     "outputs_hidden": false
    }
   },
   "outputs": [
    {
     "data": {
      "text/html": [
       "<div>\n",
       "<style scoped>\n",
       "    .dataframe tbody tr th:only-of-type {\n",
       "        vertical-align: middle;\n",
       "    }\n",
       "\n",
       "    .dataframe tbody tr th {\n",
       "        vertical-align: top;\n",
       "    }\n",
       "\n",
       "    .dataframe thead th {\n",
       "        text-align: right;\n",
       "    }\n",
       "</style>\n",
       "<table border=\"1\" class=\"dataframe\">\n",
       "  <thead>\n",
       "    <tr style=\"text-align: right;\">\n",
       "      <th></th>\n",
       "      <th>year</th>\n",
       "      <th>pop</th>\n",
       "      <th>life Exp</th>\n",
       "      <th>gdpPercap</th>\n",
       "      <th>region</th>\n",
       "    </tr>\n",
       "  </thead>\n",
       "  <tbody>\n",
       "    <tr>\n",
       "      <td>0</td>\n",
       "      <td>1952.0</td>\n",
       "      <td>8425333.0</td>\n",
       "      <td>28.801</td>\n",
       "      <td>779.445314</td>\n",
       "      <td>Asia_Afghanistan</td>\n",
       "    </tr>\n",
       "    <tr>\n",
       "      <td>1</td>\n",
       "      <td>1957.0</td>\n",
       "      <td>9240934.0</td>\n",
       "      <td>30.332</td>\n",
       "      <td>820.853030</td>\n",
       "      <td>Asia_Afghanistan</td>\n",
       "    </tr>\n",
       "    <tr>\n",
       "      <td>2</td>\n",
       "      <td>1957.0</td>\n",
       "      <td>9240934.0</td>\n",
       "      <td>30.332</td>\n",
       "      <td>820.853030</td>\n",
       "      <td>Asia_Afghanistan</td>\n",
       "    </tr>\n",
       "    <tr>\n",
       "      <td>3</td>\n",
       "      <td>1962.0</td>\n",
       "      <td>10267083.0</td>\n",
       "      <td>31.997</td>\n",
       "      <td>853.100710</td>\n",
       "      <td>Asia_Afghanistan</td>\n",
       "    </tr>\n",
       "    <tr>\n",
       "      <td>4</td>\n",
       "      <td>1962.0</td>\n",
       "      <td>NaN</td>\n",
       "      <td>31.997</td>\n",
       "      <td>NaN</td>\n",
       "      <td>Asia_Afghanistan</td>\n",
       "    </tr>\n",
       "    <tr>\n",
       "      <td>...</td>\n",
       "      <td>...</td>\n",
       "      <td>...</td>\n",
       "      <td>...</td>\n",
       "      <td>...</td>\n",
       "      <td>...</td>\n",
       "    </tr>\n",
       "    <tr>\n",
       "      <td>1715</td>\n",
       "      <td>1987.0</td>\n",
       "      <td>9216418.0</td>\n",
       "      <td>62.351</td>\n",
       "      <td>706.157306</td>\n",
       "      <td>Africa_Zimbabwe</td>\n",
       "    </tr>\n",
       "    <tr>\n",
       "      <td>1716</td>\n",
       "      <td>1992.0</td>\n",
       "      <td>10704340.0</td>\n",
       "      <td>60.377</td>\n",
       "      <td>693.420786</td>\n",
       "      <td>Africa_Zimbabwe</td>\n",
       "    </tr>\n",
       "    <tr>\n",
       "      <td>1717</td>\n",
       "      <td>1997.0</td>\n",
       "      <td>11404948.0</td>\n",
       "      <td>46.809</td>\n",
       "      <td>792.449960</td>\n",
       "      <td>Africa_Zimbabwe</td>\n",
       "    </tr>\n",
       "    <tr>\n",
       "      <td>1718</td>\n",
       "      <td>2002.0</td>\n",
       "      <td>11926563.0</td>\n",
       "      <td>39.989</td>\n",
       "      <td>672.038623</td>\n",
       "      <td>Africa_Zimbabwe</td>\n",
       "    </tr>\n",
       "    <tr>\n",
       "      <td>1719</td>\n",
       "      <td>2007.0</td>\n",
       "      <td>12311143.0</td>\n",
       "      <td>43.487</td>\n",
       "      <td>469.709298</td>\n",
       "      <td>Africa_Zimbabwe</td>\n",
       "    </tr>\n",
       "  </tbody>\n",
       "</table>\n",
       "<p>1720 rows × 5 columns</p>\n",
       "</div>"
      ],
      "text/plain": [
       "        year         pop  life Exp   gdpPercap            region\n",
       "0     1952.0   8425333.0    28.801  779.445314  Asia_Afghanistan\n",
       "1     1957.0   9240934.0    30.332  820.853030  Asia_Afghanistan\n",
       "2     1957.0   9240934.0    30.332  820.853030  Asia_Afghanistan\n",
       "3     1962.0  10267083.0    31.997  853.100710  Asia_Afghanistan\n",
       "4     1962.0         NaN    31.997         NaN  Asia_Afghanistan\n",
       "...      ...         ...       ...         ...               ...\n",
       "1715  1987.0   9216418.0    62.351  706.157306   Africa_Zimbabwe\n",
       "1716  1992.0  10704340.0    60.377  693.420786   Africa_Zimbabwe\n",
       "1717  1997.0  11404948.0    46.809  792.449960   Africa_Zimbabwe\n",
       "1718  2002.0  11926563.0    39.989  672.038623   Africa_Zimbabwe\n",
       "1719  2007.0  12311143.0    43.487  469.709298   Africa_Zimbabwe\n",
       "\n",
       "[1720 rows x 5 columns]"
      ]
     },
     "execution_count": 4,
     "metadata": {},
     "output_type": "execute_result"
    }
   ],
   "source": [
    "# Type the name of your DataFrame on the next line and run this cell.\n",
    "gapminder"
   ]
  },
  {
   "cell_type": "markdown",
   "metadata": {},
   "source": [
    "There are often too many rows to print to the screen and you don't really want to find out by printing them all to the screen and regretting it. By default, when you type the name of the DataFrame and run a cell, `pandas` knows not to print the whole thing if there are a lot of rows. Instead, you will see the first and last few rows with dots in between.\n",
    "\n",
    "A neater way to look at a preview of the dataset is by using the `head()` method.  Writing `DataFrame.head()` will display the first five rows of the data. (This is another exmaple of the \"dot\" notation: since we want to apply the `head` function to our `DataFrame`, we use `DataFrame.head()`, replacing `DataFrame` with the name of our DataFrame.) You can specify how many rows you want to see as an argument, like `DataFrame.head(10)`. The `tail()` method does the same with the last rows of the DataFrame.\n",
    "\n",
    "You do need to type the parenthesis at the end of the function, whether you put a number inside there or not."
   ]
  },
  {
   "cell_type": "markdown",
   "metadata": {},
   "source": [
    "#### Use these methods below to get an idea of what the `gapminder` DataFrame looks like."
   ]
  },
  {
   "cell_type": "code",
   "execution_count": 5,
   "metadata": {
    "collapsed": false,
    "jupyter": {
     "outputs_hidden": false
    },
    "scrolled": true
   },
   "outputs": [
    {
     "data": {
      "text/html": [
       "<div>\n",
       "<style scoped>\n",
       "    .dataframe tbody tr th:only-of-type {\n",
       "        vertical-align: middle;\n",
       "    }\n",
       "\n",
       "    .dataframe tbody tr th {\n",
       "        vertical-align: top;\n",
       "    }\n",
       "\n",
       "    .dataframe thead th {\n",
       "        text-align: right;\n",
       "    }\n",
       "</style>\n",
       "<table border=\"1\" class=\"dataframe\">\n",
       "  <thead>\n",
       "    <tr style=\"text-align: right;\">\n",
       "      <th></th>\n",
       "      <th>year</th>\n",
       "      <th>pop</th>\n",
       "      <th>life Exp</th>\n",
       "      <th>gdpPercap</th>\n",
       "      <th>region</th>\n",
       "    </tr>\n",
       "  </thead>\n",
       "  <tbody>\n",
       "    <tr>\n",
       "      <td>0</td>\n",
       "      <td>1952.0</td>\n",
       "      <td>8425333.0</td>\n",
       "      <td>28.801</td>\n",
       "      <td>779.445314</td>\n",
       "      <td>Asia_Afghanistan</td>\n",
       "    </tr>\n",
       "    <tr>\n",
       "      <td>1</td>\n",
       "      <td>1957.0</td>\n",
       "      <td>9240934.0</td>\n",
       "      <td>30.332</td>\n",
       "      <td>820.853030</td>\n",
       "      <td>Asia_Afghanistan</td>\n",
       "    </tr>\n",
       "    <tr>\n",
       "      <td>2</td>\n",
       "      <td>1957.0</td>\n",
       "      <td>9240934.0</td>\n",
       "      <td>30.332</td>\n",
       "      <td>820.853030</td>\n",
       "      <td>Asia_Afghanistan</td>\n",
       "    </tr>\n",
       "    <tr>\n",
       "      <td>3</td>\n",
       "      <td>1962.0</td>\n",
       "      <td>10267083.0</td>\n",
       "      <td>31.997</td>\n",
       "      <td>853.100710</td>\n",
       "      <td>Asia_Afghanistan</td>\n",
       "    </tr>\n",
       "    <tr>\n",
       "      <td>4</td>\n",
       "      <td>1962.0</td>\n",
       "      <td>NaN</td>\n",
       "      <td>31.997</td>\n",
       "      <td>NaN</td>\n",
       "      <td>Asia_Afghanistan</td>\n",
       "    </tr>\n",
       "    <tr>\n",
       "      <td>5</td>\n",
       "      <td>1967.0</td>\n",
       "      <td>11537966.0</td>\n",
       "      <td>34.020</td>\n",
       "      <td>836.197138</td>\n",
       "      <td>Asia_Afghanistan</td>\n",
       "    </tr>\n",
       "    <tr>\n",
       "      <td>6</td>\n",
       "      <td>1972.0</td>\n",
       "      <td>13079460.0</td>\n",
       "      <td>36.088</td>\n",
       "      <td>739.981106</td>\n",
       "      <td>Asia_Afghanistan</td>\n",
       "    </tr>\n",
       "    <tr>\n",
       "      <td>7</td>\n",
       "      <td>1977.0</td>\n",
       "      <td>14880372.0</td>\n",
       "      <td>38.438</td>\n",
       "      <td>786.113360</td>\n",
       "      <td>Asia_Afghanistan</td>\n",
       "    </tr>\n",
       "    <tr>\n",
       "      <td>8</td>\n",
       "      <td>1982.0</td>\n",
       "      <td>12881816.0</td>\n",
       "      <td>39.854</td>\n",
       "      <td>978.011439</td>\n",
       "      <td>Asia_Afghanistan</td>\n",
       "    </tr>\n",
       "    <tr>\n",
       "      <td>9</td>\n",
       "      <td>1987.0</td>\n",
       "      <td>13867957.0</td>\n",
       "      <td>40.822</td>\n",
       "      <td>852.395945</td>\n",
       "      <td>Asia_Afghanistan</td>\n",
       "    </tr>\n",
       "  </tbody>\n",
       "</table>\n",
       "</div>"
      ],
      "text/plain": [
       "     year         pop  life Exp   gdpPercap            region\n",
       "0  1952.0   8425333.0    28.801  779.445314  Asia_Afghanistan\n",
       "1  1957.0   9240934.0    30.332  820.853030  Asia_Afghanistan\n",
       "2  1957.0   9240934.0    30.332  820.853030  Asia_Afghanistan\n",
       "3  1962.0  10267083.0    31.997  853.100710  Asia_Afghanistan\n",
       "4  1962.0         NaN    31.997         NaN  Asia_Afghanistan\n",
       "5  1967.0  11537966.0    34.020  836.197138  Asia_Afghanistan\n",
       "6  1972.0  13079460.0    36.088  739.981106  Asia_Afghanistan\n",
       "7  1977.0  14880372.0    38.438  786.113360  Asia_Afghanistan\n",
       "8  1982.0  12881816.0    39.854  978.011439  Asia_Afghanistan\n",
       "9  1987.0  13867957.0    40.822  852.395945  Asia_Afghanistan"
      ]
     },
     "execution_count": 5,
     "metadata": {},
     "output_type": "execute_result"
    }
   ],
   "source": [
    "# Add code here to view the head of the gapminder data.\n",
    "gapminder.head(10)"
   ]
  },
  {
   "cell_type": "code",
   "execution_count": 6,
   "metadata": {
    "collapsed": false,
    "jupyter": {
     "outputs_hidden": false
    },
    "scrolled": true
   },
   "outputs": [
    {
     "data": {
      "text/html": [
       "<div>\n",
       "<style scoped>\n",
       "    .dataframe tbody tr th:only-of-type {\n",
       "        vertical-align: middle;\n",
       "    }\n",
       "\n",
       "    .dataframe tbody tr th {\n",
       "        vertical-align: top;\n",
       "    }\n",
       "\n",
       "    .dataframe thead th {\n",
       "        text-align: right;\n",
       "    }\n",
       "</style>\n",
       "<table border=\"1\" class=\"dataframe\">\n",
       "  <thead>\n",
       "    <tr style=\"text-align: right;\">\n",
       "      <th></th>\n",
       "      <th>year</th>\n",
       "      <th>pop</th>\n",
       "      <th>life Exp</th>\n",
       "      <th>gdpPercap</th>\n",
       "      <th>region</th>\n",
       "    </tr>\n",
       "  </thead>\n",
       "  <tbody>\n",
       "    <tr>\n",
       "      <td>1710</td>\n",
       "      <td>1962.0</td>\n",
       "      <td>4277736.0</td>\n",
       "      <td>52.358</td>\n",
       "      <td>527.272182</td>\n",
       "      <td>Africa_Zimbabwe</td>\n",
       "    </tr>\n",
       "    <tr>\n",
       "      <td>1711</td>\n",
       "      <td>1967.0</td>\n",
       "      <td>4995432.0</td>\n",
       "      <td>53.995</td>\n",
       "      <td>569.795071</td>\n",
       "      <td>Africa_Zimbabwe</td>\n",
       "    </tr>\n",
       "    <tr>\n",
       "      <td>1712</td>\n",
       "      <td>1972.0</td>\n",
       "      <td>5861135.0</td>\n",
       "      <td>55.635</td>\n",
       "      <td>799.362176</td>\n",
       "      <td>Africa_Zimbabwe</td>\n",
       "    </tr>\n",
       "    <tr>\n",
       "      <td>1713</td>\n",
       "      <td>1977.0</td>\n",
       "      <td>6642107.0</td>\n",
       "      <td>57.674</td>\n",
       "      <td>685.587682</td>\n",
       "      <td>Africa_Zimbabwe</td>\n",
       "    </tr>\n",
       "    <tr>\n",
       "      <td>1714</td>\n",
       "      <td>1982.0</td>\n",
       "      <td>7636524.0</td>\n",
       "      <td>60.363</td>\n",
       "      <td>788.855041</td>\n",
       "      <td>Africa_Zimbabwe</td>\n",
       "    </tr>\n",
       "    <tr>\n",
       "      <td>1715</td>\n",
       "      <td>1987.0</td>\n",
       "      <td>9216418.0</td>\n",
       "      <td>62.351</td>\n",
       "      <td>706.157306</td>\n",
       "      <td>Africa_Zimbabwe</td>\n",
       "    </tr>\n",
       "    <tr>\n",
       "      <td>1716</td>\n",
       "      <td>1992.0</td>\n",
       "      <td>10704340.0</td>\n",
       "      <td>60.377</td>\n",
       "      <td>693.420786</td>\n",
       "      <td>Africa_Zimbabwe</td>\n",
       "    </tr>\n",
       "    <tr>\n",
       "      <td>1717</td>\n",
       "      <td>1997.0</td>\n",
       "      <td>11404948.0</td>\n",
       "      <td>46.809</td>\n",
       "      <td>792.449960</td>\n",
       "      <td>Africa_Zimbabwe</td>\n",
       "    </tr>\n",
       "    <tr>\n",
       "      <td>1718</td>\n",
       "      <td>2002.0</td>\n",
       "      <td>11926563.0</td>\n",
       "      <td>39.989</td>\n",
       "      <td>672.038623</td>\n",
       "      <td>Africa_Zimbabwe</td>\n",
       "    </tr>\n",
       "    <tr>\n",
       "      <td>1719</td>\n",
       "      <td>2007.0</td>\n",
       "      <td>12311143.0</td>\n",
       "      <td>43.487</td>\n",
       "      <td>469.709298</td>\n",
       "      <td>Africa_Zimbabwe</td>\n",
       "    </tr>\n",
       "  </tbody>\n",
       "</table>\n",
       "</div>"
      ],
      "text/plain": [
       "        year         pop  life Exp   gdpPercap           region\n",
       "1710  1962.0   4277736.0    52.358  527.272182  Africa_Zimbabwe\n",
       "1711  1967.0   4995432.0    53.995  569.795071  Africa_Zimbabwe\n",
       "1712  1972.0   5861135.0    55.635  799.362176  Africa_Zimbabwe\n",
       "1713  1977.0   6642107.0    57.674  685.587682  Africa_Zimbabwe\n",
       "1714  1982.0   7636524.0    60.363  788.855041  Africa_Zimbabwe\n",
       "1715  1987.0   9216418.0    62.351  706.157306  Africa_Zimbabwe\n",
       "1716  1992.0  10704340.0    60.377  693.420786  Africa_Zimbabwe\n",
       "1717  1997.0  11404948.0    46.809  792.449960  Africa_Zimbabwe\n",
       "1718  2002.0  11926563.0    39.989  672.038623  Africa_Zimbabwe\n",
       "1719  2007.0  12311143.0    43.487  469.709298  Africa_Zimbabwe"
      ]
     },
     "execution_count": 6,
     "metadata": {},
     "output_type": "execute_result"
    }
   ],
   "source": [
    "# Add code here to view the tail of the gapminder data.\n",
    "gapminder.tail(10)"
   ]
  },
  {
   "cell_type": "markdown",
   "metadata": {},
   "source": [
    "## Data wrangling"
   ]
  },
  {
   "cell_type": "markdown",
   "metadata": {},
   "source": [
    "The term \"data wrangling\" describes the process of taking messy or disorganized data and cleaning it up. In this section (the bulk of this assignment), we'll learn about and execute commands to explore and describe our data with the aim of cleaning and organizing it."
   ]
  },
  {
   "cell_type": "markdown",
   "metadata": {},
   "source": [
    "### Counting rows and columns\n",
    "\n",
    "We often want to know how many rows and columns are in the data&mdash;we want to know about the `shape` of the DataFrame. The `pandas` library has a convenient way for getting that information by using the following code:\n",
    "\n",
    "```\n",
    "DataFrame.shape\n",
    "```\n",
    "\n",
    "This returns a tuple (values separated by commas) representing the dimensions of the DataFrame (rows, columns).\n",
    "\n",
    "Using `shape` does *not* require you to use parentheses at the end. (In fact, it won't work if you include parentheses.)"
   ]
  },
  {
   "cell_type": "markdown",
   "metadata": {},
   "source": [
    "#### Write code using `shape` to get the shape of the `gapminder` DataFrame."
   ]
  },
  {
   "cell_type": "code",
   "execution_count": 7,
   "metadata": {
    "collapsed": false,
    "jupyter": {
     "outputs_hidden": false
    }
   },
   "outputs": [
    {
     "data": {
      "text/plain": [
       "(1720, 5)"
      ]
     },
     "execution_count": 7,
     "metadata": {},
     "output_type": "execute_result"
    }
   ],
   "source": [
    "# Add code here to print the shape attribute of the gapminder data.\n",
    "gapminder.shape"
   ]
  },
  {
   "cell_type": "markdown",
   "metadata": {},
   "source": [
    "***"
   ]
  },
  {
   "cell_type": "markdown",
   "metadata": {},
   "source": [
    "#### How many rows and columns are there?"
   ]
  },
  {
   "cell_type": "markdown",
   "metadata": {},
   "source": [
    "*Type your answer here.*"
   ]
  },
  {
   "cell_type": "markdown",
   "metadata": {},
   "source": [
    "***"
   ]
  },
  {
   "cell_type": "markdown",
   "metadata": {},
   "source": [
    "The `info()` method gives a few useful pieces of information quickly, including the shape of the DataFrame, the variable type of each column, and the amount of memory stored.\n",
    "\n",
    "(And here, we do need the parentheses again. It can be confusing when you're new to Python knowing when to use parentheses and when not to. Just follow the sample code provided and you'll be just fine for this assignment.)"
   ]
  },
  {
   "cell_type": "markdown",
   "metadata": {},
   "source": [
    "#### Run the following code."
   ]
  },
  {
   "cell_type": "code",
   "execution_count": 8,
   "metadata": {
    "collapsed": false,
    "jupyter": {
     "outputs_hidden": false
    }
   },
   "outputs": [
    {
     "name": "stdout",
     "output_type": "stream",
     "text": [
      "<class 'pandas.core.frame.DataFrame'>\n",
      "RangeIndex: 1720 entries, 0 to 1719\n",
      "Data columns (total 5 columns):\n",
      "year         1717 non-null float64\n",
      "pop          1715 non-null float64\n",
      "life Exp     1719 non-null float64\n",
      "gdpPercap    1718 non-null float64\n",
      "region       1720 non-null object\n",
      "dtypes: float64(4), object(1)\n",
      "memory usage: 67.3+ KB\n"
     ]
    }
   ],
   "source": [
    "# Run this code to get info on the gapminder DataFrame.\n",
    "gapminder.info()"
   ]
  },
  {
   "cell_type": "markdown",
   "metadata": {},
   "source": [
    "There are several problems with this data set as it currently stands. (This is normal; very few data sets are ready for data analysis right off the shelf.) The first step in data cleaning is identifying the problems. The `info()` above has already revealed one major problem.\n",
    "\n",
    "Let's investigate!"
   ]
  },
  {
   "cell_type": "markdown",
   "metadata": {},
   "source": [
    "***"
   ]
  },
  {
   "cell_type": "markdown",
   "metadata": {},
   "source": [
    "#### Look at the number of entries in the entire DataFrame at the top of the `info()` output (`RangeIndex`) and compare that to each column. Explain what you think is happening. (Hint, go back and look at the spot earlier where you printed a good chunk of the data to the screen. Can you see spots where data might be \"counted\" or \"uncounted\" in the column totals?)"
   ]
  },
  {
   "cell_type": "markdown",
   "metadata": {},
   "source": [
    "*Type your answer here.*"
   ]
  },
  {
   "cell_type": "markdown",
   "metadata": {},
   "source": [
    "***"
   ]
  },
  {
   "cell_type": "markdown",
   "metadata": {},
   "source": [
    "There are other fast, easy, and informative ways to get a sense of what your data might look like and any issues that it has. The `describe()` method will take the numeric columns and give a summary of their values. This is useful for getting a sense of the ranges of values and seeing if there are any unusual or suspicious numbers."
   ]
  },
  {
   "cell_type": "markdown",
   "metadata": {},
   "source": [
    "#### Use the `describe()` method on the gapminder DataFrame in the cell below."
   ]
  },
  {
   "cell_type": "code",
   "execution_count": 9,
   "metadata": {
    "collapsed": false,
    "jupyter": {
     "outputs_hidden": false
    }
   },
   "outputs": [
    {
     "data": {
      "text/html": [
       "<div>\n",
       "<style scoped>\n",
       "    .dataframe tbody tr th:only-of-type {\n",
       "        vertical-align: middle;\n",
       "    }\n",
       "\n",
       "    .dataframe tbody tr th {\n",
       "        vertical-align: top;\n",
       "    }\n",
       "\n",
       "    .dataframe thead th {\n",
       "        text-align: right;\n",
       "    }\n",
       "</style>\n",
       "<table border=\"1\" class=\"dataframe\">\n",
       "  <thead>\n",
       "    <tr style=\"text-align: right;\">\n",
       "      <th></th>\n",
       "      <th>year</th>\n",
       "      <th>pop</th>\n",
       "      <th>life Exp</th>\n",
       "      <th>gdpPercap</th>\n",
       "    </tr>\n",
       "  </thead>\n",
       "  <tbody>\n",
       "    <tr>\n",
       "      <td>count</td>\n",
       "      <td>1717.000000</td>\n",
       "      <td>1.715000e+03</td>\n",
       "      <td>1719.000000</td>\n",
       "      <td>1718.000000</td>\n",
       "    </tr>\n",
       "    <tr>\n",
       "      <td>mean</td>\n",
       "      <td>1979.449039</td>\n",
       "      <td>2.954973e+07</td>\n",
       "      <td>59.436493</td>\n",
       "      <td>7208.452200</td>\n",
       "    </tr>\n",
       "    <tr>\n",
       "      <td>std</td>\n",
       "      <td>17.228189</td>\n",
       "      <td>1.058366e+08</td>\n",
       "      <td>12.931041</td>\n",
       "      <td>9838.590984</td>\n",
       "    </tr>\n",
       "    <tr>\n",
       "      <td>min</td>\n",
       "      <td>1952.000000</td>\n",
       "      <td>6.001100e+04</td>\n",
       "      <td>23.599000</td>\n",
       "      <td>241.165877</td>\n",
       "    </tr>\n",
       "    <tr>\n",
       "      <td>25%</td>\n",
       "      <td>1967.000000</td>\n",
       "      <td>2.807799e+06</td>\n",
       "      <td>48.143000</td>\n",
       "      <td>1203.161887</td>\n",
       "    </tr>\n",
       "    <tr>\n",
       "      <td>50%</td>\n",
       "      <td>1977.000000</td>\n",
       "      <td>7.026113e+06</td>\n",
       "      <td>60.523000</td>\n",
       "      <td>3529.585686</td>\n",
       "    </tr>\n",
       "    <tr>\n",
       "      <td>75%</td>\n",
       "      <td>1992.000000</td>\n",
       "      <td>1.959366e+07</td>\n",
       "      <td>70.840500</td>\n",
       "      <td>9322.285886</td>\n",
       "    </tr>\n",
       "    <tr>\n",
       "      <td>max</td>\n",
       "      <td>2007.000000</td>\n",
       "      <td>1.318683e+09</td>\n",
       "      <td>82.603000</td>\n",
       "      <td>113523.132900</td>\n",
       "    </tr>\n",
       "  </tbody>\n",
       "</table>\n",
       "</div>"
      ],
      "text/plain": [
       "              year           pop     life Exp      gdpPercap\n",
       "count  1717.000000  1.715000e+03  1719.000000    1718.000000\n",
       "mean   1979.449039  2.954973e+07    59.436493    7208.452200\n",
       "std      17.228189  1.058366e+08    12.931041    9838.590984\n",
       "min    1952.000000  6.001100e+04    23.599000     241.165877\n",
       "25%    1967.000000  2.807799e+06    48.143000    1203.161887\n",
       "50%    1977.000000  7.026113e+06    60.523000    3529.585686\n",
       "75%    1992.000000  1.959366e+07    70.840500    9322.285886\n",
       "max    2007.000000  1.318683e+09    82.603000  113523.132900"
      ]
     },
     "execution_count": 9,
     "metadata": {},
     "output_type": "execute_result"
    }
   ],
   "source": [
    "# Add code here to describe each variable of the gapminder data.\n",
    "gapminder.describe()"
   ]
  },
  {
   "cell_type": "markdown",
   "metadata": {},
   "source": [
    "The DataFrame method `describe()` just blindly looks at all numeric variables. For example, we wouldn't actually want to find the mean value of `year`. Also, `describe()` ignores `NaN` (\"Not a Number\") values, which we might want to know about (and deal with, which we will later).\n",
    "\n",
    "For now, let's look only at the columns that are truly continuous numbers (i.e., ignore `year`). For multiple columns, they need to be in double brackets as shown in the example below."
   ]
  },
  {
   "cell_type": "markdown",
   "metadata": {},
   "source": [
    "#### Run the following code."
   ]
  },
  {
   "cell_type": "code",
   "execution_count": 10,
   "metadata": {
    "collapsed": false,
    "jupyter": {
     "outputs_hidden": false
    }
   },
   "outputs": [
    {
     "data": {
      "text/html": [
       "<div>\n",
       "<style scoped>\n",
       "    .dataframe tbody tr th:only-of-type {\n",
       "        vertical-align: middle;\n",
       "    }\n",
       "\n",
       "    .dataframe tbody tr th {\n",
       "        vertical-align: top;\n",
       "    }\n",
       "\n",
       "    .dataframe thead th {\n",
       "        text-align: right;\n",
       "    }\n",
       "</style>\n",
       "<table border=\"1\" class=\"dataframe\">\n",
       "  <thead>\n",
       "    <tr style=\"text-align: right;\">\n",
       "      <th></th>\n",
       "      <th>pop</th>\n",
       "      <th>life Exp</th>\n",
       "      <th>gdpPercap</th>\n",
       "    </tr>\n",
       "  </thead>\n",
       "  <tbody>\n",
       "    <tr>\n",
       "      <td>count</td>\n",
       "      <td>1.715000e+03</td>\n",
       "      <td>1719.000000</td>\n",
       "      <td>1718.000000</td>\n",
       "    </tr>\n",
       "    <tr>\n",
       "      <td>mean</td>\n",
       "      <td>2.954973e+07</td>\n",
       "      <td>59.436493</td>\n",
       "      <td>7208.452200</td>\n",
       "    </tr>\n",
       "    <tr>\n",
       "      <td>std</td>\n",
       "      <td>1.058366e+08</td>\n",
       "      <td>12.931041</td>\n",
       "      <td>9838.590984</td>\n",
       "    </tr>\n",
       "    <tr>\n",
       "      <td>min</td>\n",
       "      <td>6.001100e+04</td>\n",
       "      <td>23.599000</td>\n",
       "      <td>241.165877</td>\n",
       "    </tr>\n",
       "    <tr>\n",
       "      <td>25%</td>\n",
       "      <td>2.807799e+06</td>\n",
       "      <td>48.143000</td>\n",
       "      <td>1203.161887</td>\n",
       "    </tr>\n",
       "    <tr>\n",
       "      <td>50%</td>\n",
       "      <td>7.026113e+06</td>\n",
       "      <td>60.523000</td>\n",
       "      <td>3529.585686</td>\n",
       "    </tr>\n",
       "    <tr>\n",
       "      <td>75%</td>\n",
       "      <td>1.959366e+07</td>\n",
       "      <td>70.840500</td>\n",
       "      <td>9322.285886</td>\n",
       "    </tr>\n",
       "    <tr>\n",
       "      <td>max</td>\n",
       "      <td>1.318683e+09</td>\n",
       "      <td>82.603000</td>\n",
       "      <td>113523.132900</td>\n",
       "    </tr>\n",
       "  </tbody>\n",
       "</table>\n",
       "</div>"
      ],
      "text/plain": [
       "                pop     life Exp      gdpPercap\n",
       "count  1.715000e+03  1719.000000    1718.000000\n",
       "mean   2.954973e+07    59.436493    7208.452200\n",
       "std    1.058366e+08    12.931041    9838.590984\n",
       "min    6.001100e+04    23.599000     241.165877\n",
       "25%    2.807799e+06    48.143000    1203.161887\n",
       "50%    7.026113e+06    60.523000    3529.585686\n",
       "75%    1.959366e+07    70.840500    9322.285886\n",
       "max    1.318683e+09    82.603000  113523.132900"
      ]
     },
     "execution_count": 10,
     "metadata": {},
     "output_type": "execute_result"
    }
   ],
   "source": [
    "# Run this code to describe numerical data (only columns with continuous values).\n",
    "gapminder[[\"pop\", \"life Exp\", \"gdpPercap\"]].describe()"
   ]
  },
  {
   "cell_type": "markdown",
   "metadata": {},
   "source": [
    "That's slightly better, but we still don't know about missing values yet.\n",
    "\n",
    "The `value_counts()` method gives you a quick idea of what kinds of names are in your categorical variables. In this case our categorical data is the `region` column and represents the names of the regions where the data came from.\n",
    "\n",
    "**Important observation: the data set covers 12 distinct years of data (every five years starting in 1952 and ending in 2007) for each `region`. Therefore, each `region` should appear 12 times.**"
   ]
  },
  {
   "cell_type": "markdown",
   "metadata": {},
   "source": [
    "#### Use `value_counts()` on `gapminder` to see if all regions have 12 rows/entries as expected.\n",
    "\n",
    "The command should be structured as follows, but replace `DataFrame` with the name of our data, and replace `column_name` with the name of the column we wish to analyze:\n",
    "\n",
    "```\n",
    "DataFrame[\"column_name\"].value_counts()\n",
    "```"
   ]
  },
  {
   "cell_type": "markdown",
   "metadata": {},
   "source": [
    "#### Run the following code to check the number of observations for each region."
   ]
  },
  {
   "cell_type": "code",
   "execution_count": 11,
   "metadata": {
    "collapsed": false,
    "jupyter": {
     "outputs_hidden": false
    }
   },
   "outputs": [
    {
     "data": {
      "text/plain": [
       "Europe_Netherlands                         15\n",
       "Americas_Dominican Republic                14\n",
       "Asia_Afghanistan                           14\n",
       "Americas_Bolivia                           14\n",
       "Asia_Bangladesh                            13\n",
       "                                           ..\n",
       "    Asia_Korea, Dem. Rep.                   2\n",
       "Africa_Cote d'Ivore                         1\n",
       "    Asia_Jordan                             1\n",
       "Africa_Congo, Democratic Republic           1\n",
       "Africa_Democratic Republic of the Congo     1\n",
       "Name: region, Length: 151, dtype: int64"
      ]
     },
     "execution_count": 11,
     "metadata": {},
     "output_type": "execute_result"
    }
   ],
   "source": [
    "# Add code here using value_counts to check the number of observations for each region.\n",
    "pd.value_counts(gapminder['region'])"
   ]
  },
  {
   "cell_type": "markdown",
   "metadata": {},
   "source": [
    "**Uh-oh!** The table reveals several problems."
   ]
  },
  {
   "cell_type": "markdown",
   "metadata": {},
   "source": [
    "***"
   ]
  },
  {
   "cell_type": "markdown",
   "metadata": {},
   "source": [
    "#### Describe and explain the (several) problems that you see."
   ]
  },
  {
   "cell_type": "markdown",
   "metadata": {},
   "source": [
    "*Type your answer here.*"
   ]
  },
  {
   "cell_type": "markdown",
   "metadata": {},
   "source": [
    "***"
   ]
  },
  {
   "cell_type": "markdown",
   "metadata": {},
   "source": [
    "### Handling missing data\n",
    "\n",
    "Missing data is an important issue to handle. As we've seen, ignoring it doesn't make it go away, in our example, it has been giving us problems in our `describe()` results and our `value_counts()` results. (Remember the `NaN` values?)\n",
    "\n",
    "There are different ways of dealing with missing data. There are pros and cons, so choose carefully:\n",
    "\n",
    "* Analyze only the available data (i.e. ignore/delete the missing data).\n",
    "* Replace the missing data with replacement values and treat these as though they were observed (*This is dangerous!*)\n",
    "* Replace the missing data and account for the fact that these values were inputed with uncertainty. (For example, you could create a new true/false variable as a flag so you know that which values were not actually observed.)\n",
    "* Use statistical models to allow for missing data that make assumptions about their relationships with the available data as necessary.\n",
    "\n",
    "For our purposes with the dirty `gapminder` data set, it turns out that the rows with missing data are truly unnecessary, so we're going to choose to analyze only the available data. We will simply remove rows with missing values."
   ]
  },
  {
   "cell_type": "markdown",
   "metadata": {},
   "source": [
    "***"
   ]
  },
  {
   "cell_type": "markdown",
   "metadata": {},
   "source": [
    "#### Why do we suspect the rows with missing data are truly unnecessary? Scan the printout of the `gapminder` data (earlier in the assignment) and explain why it appears that some regions have extra&mdash;and unnecessary&mdash;rows."
   ]
  },
  {
   "cell_type": "markdown",
   "metadata": {},
   "source": [
    "*Type your answer here.*"
   ]
  },
  {
   "cell_type": "markdown",
   "metadata": {},
   "source": [
    "***"
   ]
  },
  {
   "cell_type": "markdown",
   "metadata": {},
   "source": [
    "In `pandas` DataFrames, missing values are usually coded as `NaN` (\"Not a Number\") when a number is expected. A value like `NaN` is often called a \"null\" value.\n",
    "\n",
    "Let's find out how many null values there are in the `gapminder` data. We are going to *chain* two steps together to determine the number of `NaN` values in the `gapminder` DataFrame.\n",
    "\n",
    "* The `isnull()` method returns `True` or `False` for each cell in the DataFrame: `True` if the value in the cell is `NaN`, `False` if it is not.\n",
    "* The `sum()` method adds up the `True` and `False` values in each column.\n",
    "\n",
    "\"Hold on,\" you say, \"you can't add the words `True` and `False`!\" Oh yes, you can! `True` is treated as 1 and `False` as 0 in Python (and in most programming languages), so if you `sum()` the results of `isnull()` you get the number of `NaN` values in each column. Awesome!"
   ]
  },
  {
   "cell_type": "markdown",
   "metadata": {},
   "source": [
    "#### Run the chained code below."
   ]
  },
  {
   "cell_type": "code",
   "execution_count": 12,
   "metadata": {
    "collapsed": false,
    "jupyter": {
     "outputs_hidden": false
    },
    "scrolled": true
   },
   "outputs": [
    {
     "data": {
      "text/plain": [
       "year         3\n",
       "pop          5\n",
       "life Exp     1\n",
       "gdpPercap    2\n",
       "region       0\n",
       "dtype: int64"
      ]
     },
     "execution_count": 12,
     "metadata": {},
     "output_type": "execute_result"
    }
   ],
   "source": [
    "# Run this code to count the number of null values.\n",
    "gapminder.isnull().sum()"
   ]
  },
  {
   "cell_type": "markdown",
   "metadata": {},
   "source": [
    "Yikes! There are null values in each column except region.\n",
    "\n",
    "Removing null values from a DataFrame is incredibly easy to do because `pandas` allows you either to remove all instances with `NaN` or replace them with a particular value. (In fact, it may be too easy; make sure you are careful!)\n",
    "\n",
    "The `dropna()` method drops rows with any column having null data. This method does not work \"in place\", meaning that it doesn't automatically save the changes to your existing DataFrame. So if you want to keep the modified DataFrame (without the null values), you need to assign it again like this:\n",
    "\n",
    "```\n",
    "DataFrame = DataFrame.dropna()\n",
    "```\n",
    "\n",
    "Or, you can preserve the original data by giving the result a new name:\n",
    "\n",
    "```\n",
    "DataFrame2 = DataFrame.dropna()\n",
    "```\n",
    "\n",
    "There are pros and cons to each approach. In this lab, we'll do both depending on the task.\n",
    "\n",
    "You always want to be cautious about dropping rows from your data!\n",
    "\n",
    "If you want to replace all null data with a `value` you can do this:\n",
    "\n",
    "```\n",
    "DataFrame = DataFrame.fillna(value)\n",
    "```\n",
    "\n",
    "Again, you have to assign the resulting output to a variable (either the same one or a different one) since `dropna()` and `fillna()` do not work \"in place\". If you don't assign the result to something, the output just prints to the screen, but nothing happens to the actual DataFrame stored in memory.\n",
    "\n",
    "Before you rip into removing data, it's a good idea to know how many rows you have. You already know a few ways to do this."
   ]
  },
  {
   "cell_type": "markdown",
   "metadata": {},
   "source": [
    "#### Check the number of rows in the `gapminder` data."
   ]
  },
  {
   "cell_type": "code",
   "execution_count": 13,
   "metadata": {
    "collapsed": false,
    "jupyter": {
     "outputs_hidden": false
    }
   },
   "outputs": [
    {
     "data": {
      "text/plain": [
       "1720"
      ]
     },
     "execution_count": 13,
     "metadata": {},
     "output_type": "execute_result"
    }
   ],
   "source": [
    "# Add code here to check the number of rows in the gapminder data.\n",
    "gapminder.shape[0]"
   ]
  },
  {
   "cell_type": "markdown",
   "metadata": {},
   "source": [
    "#### Now use `dropna()` to remove the null values from the `gapminder` DataFrame and assign the results to a new DataFrame called `gapminder2`."
   ]
  },
  {
   "cell_type": "code",
   "execution_count": 14,
   "metadata": {
    "collapsed": false,
    "jupyter": {
     "outputs_hidden": false
    }
   },
   "outputs": [],
   "source": [
    "## Add code here to use dropna() and assign the results to the DataFrame gapminder2.\n",
    "gapminder2 = gapminder.dropna()"
   ]
  },
  {
   "cell_type": "markdown",
   "metadata": {},
   "source": [
    "#### Now get the number of rows of `gapminder2`."
   ]
  },
  {
   "cell_type": "code",
   "execution_count": 15,
   "metadata": {
    "collapsed": false,
    "jupyter": {
     "outputs_hidden": false
    }
   },
   "outputs": [
    {
     "data": {
      "text/plain": [
       "1712"
      ]
     },
     "execution_count": 15,
     "metadata": {},
     "output_type": "execute_result"
    }
   ],
   "source": [
    "# Add code here to get the number of rows of gapminder2.\n",
    "gapminder2.shape[0]"
   ]
  },
  {
   "cell_type": "markdown",
   "metadata": {},
   "source": [
    "#### Use `isnull()` and `sum()` (as  before) on `gapminder2` to confirm that there are no more null values."
   ]
  },
  {
   "cell_type": "code",
   "execution_count": 16,
   "metadata": {
    "collapsed": false,
    "jupyter": {
     "outputs_hidden": false
    }
   },
   "outputs": [
    {
     "data": {
      "text/plain": [
       "year         0\n",
       "pop          0\n",
       "life Exp     0\n",
       "gdpPercap    0\n",
       "region       0\n",
       "dtype: int64"
      ]
     },
     "execution_count": 16,
     "metadata": {},
     "output_type": "execute_result"
    }
   ],
   "source": [
    "# Add code here to check that there are no more null values.\n",
    "gapminder2.isnull().sum()"
   ]
  },
  {
   "cell_type": "markdown",
   "metadata": {},
   "source": [
    "***"
   ]
  },
  {
   "cell_type": "markdown",
   "metadata": {},
   "source": [
    "#### How many rows were removed?"
   ]
  },
  {
   "cell_type": "markdown",
   "metadata": {},
   "source": [
    "*Type your answer here.*"
   ]
  },
  {
   "cell_type": "markdown",
   "metadata": {},
   "source": [
    "#### Which regions lost rows? Run some code to identify regions that still have too many observations. (Hint: look above to find the code you used to do this before, but remember that you are working with `gapminder2` now, not the original `gapminder`.)"
   ]
  },
  {
   "cell_type": "code",
   "execution_count": 17,
   "metadata": {
    "collapsed": false,
    "jupyter": {
     "outputs_hidden": false
    }
   },
   "outputs": [
    {
     "data": {
      "text/plain": [
       "Americas_Dominican Republic                14\n",
       "Europe_Netherlands                         14\n",
       "Asia_Bangladesh                            13\n",
       "Asia_Afghanistan                           13\n",
       "Africa_Burundi                             13\n",
       "                                           ..\n",
       "Americas_Colombia                           2\n",
       "    Asia_Jordan                             1\n",
       "Africa_Congo, Democratic Republic           1\n",
       "Africa_Cote d'Ivore                         1\n",
       "Africa_Democratic Republic of the Congo     1\n",
       "Name: region, Length: 151, dtype: int64"
      ]
     },
     "execution_count": 17,
     "metadata": {},
     "output_type": "execute_result"
    }
   ],
   "source": [
    "# Add code here to print the number of observations per region.\n",
    "gapminder2['region'].value_counts()"
   ]
  },
  {
   "cell_type": "markdown",
   "metadata": {},
   "source": [
    "It looks like our work here is not yet done...\n",
    "\n",
    "Before we go much further, we have to deal with the issue of the \"index\". When we printed the original `gapminder` DataFrame to the screen, the rows appeared with a number out to the left that started with 0 and ended at 1719 at the bottom. (Recall there were 1720 rows in the original data. And in Python&mdash;as in many programming languages&mdash;the counting starts with zero, not with one.) These numbers represent an *index* that keeps track of the row numbers. DataFrames always have an index that refers to the position of elements in the data structure. The index is useful for many of the `pandas` methods.\n",
    "\n",
    "Let's look at the index of `gapminder2` now that we've removed the rows with null values."
   ]
  },
  {
   "cell_type": "markdown",
   "metadata": {},
   "source": [
    "#### Print the first ten rows of the `gapminder2` data."
   ]
  },
  {
   "cell_type": "code",
   "execution_count": 18,
   "metadata": {
    "collapsed": false,
    "jupyter": {
     "outputs_hidden": false
    }
   },
   "outputs": [
    {
     "data": {
      "text/html": [
       "<div>\n",
       "<style scoped>\n",
       "    .dataframe tbody tr th:only-of-type {\n",
       "        vertical-align: middle;\n",
       "    }\n",
       "\n",
       "    .dataframe tbody tr th {\n",
       "        vertical-align: top;\n",
       "    }\n",
       "\n",
       "    .dataframe thead th {\n",
       "        text-align: right;\n",
       "    }\n",
       "</style>\n",
       "<table border=\"1\" class=\"dataframe\">\n",
       "  <thead>\n",
       "    <tr style=\"text-align: right;\">\n",
       "      <th></th>\n",
       "      <th>year</th>\n",
       "      <th>pop</th>\n",
       "      <th>life Exp</th>\n",
       "      <th>gdpPercap</th>\n",
       "      <th>region</th>\n",
       "    </tr>\n",
       "  </thead>\n",
       "  <tbody>\n",
       "    <tr>\n",
       "      <td>0</td>\n",
       "      <td>1952.0</td>\n",
       "      <td>8425333.0</td>\n",
       "      <td>28.801</td>\n",
       "      <td>779.445314</td>\n",
       "      <td>Asia_Afghanistan</td>\n",
       "    </tr>\n",
       "    <tr>\n",
       "      <td>1</td>\n",
       "      <td>1957.0</td>\n",
       "      <td>9240934.0</td>\n",
       "      <td>30.332</td>\n",
       "      <td>820.853030</td>\n",
       "      <td>Asia_Afghanistan</td>\n",
       "    </tr>\n",
       "    <tr>\n",
       "      <td>2</td>\n",
       "      <td>1957.0</td>\n",
       "      <td>9240934.0</td>\n",
       "      <td>30.332</td>\n",
       "      <td>820.853030</td>\n",
       "      <td>Asia_Afghanistan</td>\n",
       "    </tr>\n",
       "    <tr>\n",
       "      <td>3</td>\n",
       "      <td>1962.0</td>\n",
       "      <td>10267083.0</td>\n",
       "      <td>31.997</td>\n",
       "      <td>853.100710</td>\n",
       "      <td>Asia_Afghanistan</td>\n",
       "    </tr>\n",
       "    <tr>\n",
       "      <td>5</td>\n",
       "      <td>1967.0</td>\n",
       "      <td>11537966.0</td>\n",
       "      <td>34.020</td>\n",
       "      <td>836.197138</td>\n",
       "      <td>Asia_Afghanistan</td>\n",
       "    </tr>\n",
       "    <tr>\n",
       "      <td>6</td>\n",
       "      <td>1972.0</td>\n",
       "      <td>13079460.0</td>\n",
       "      <td>36.088</td>\n",
       "      <td>739.981106</td>\n",
       "      <td>Asia_Afghanistan</td>\n",
       "    </tr>\n",
       "    <tr>\n",
       "      <td>7</td>\n",
       "      <td>1977.0</td>\n",
       "      <td>14880372.0</td>\n",
       "      <td>38.438</td>\n",
       "      <td>786.113360</td>\n",
       "      <td>Asia_Afghanistan</td>\n",
       "    </tr>\n",
       "    <tr>\n",
       "      <td>8</td>\n",
       "      <td>1982.0</td>\n",
       "      <td>12881816.0</td>\n",
       "      <td>39.854</td>\n",
       "      <td>978.011439</td>\n",
       "      <td>Asia_Afghanistan</td>\n",
       "    </tr>\n",
       "    <tr>\n",
       "      <td>9</td>\n",
       "      <td>1987.0</td>\n",
       "      <td>13867957.0</td>\n",
       "      <td>40.822</td>\n",
       "      <td>852.395945</td>\n",
       "      <td>Asia_Afghanistan</td>\n",
       "    </tr>\n",
       "    <tr>\n",
       "      <td>10</td>\n",
       "      <td>1992.0</td>\n",
       "      <td>16317921.0</td>\n",
       "      <td>41.674</td>\n",
       "      <td>649.341395</td>\n",
       "      <td>Asia_Afghanistan</td>\n",
       "    </tr>\n",
       "  </tbody>\n",
       "</table>\n",
       "</div>"
      ],
      "text/plain": [
       "      year         pop  life Exp   gdpPercap            region\n",
       "0   1952.0   8425333.0    28.801  779.445314  Asia_Afghanistan\n",
       "1   1957.0   9240934.0    30.332  820.853030  Asia_Afghanistan\n",
       "2   1957.0   9240934.0    30.332  820.853030  Asia_Afghanistan\n",
       "3   1962.0  10267083.0    31.997  853.100710  Asia_Afghanistan\n",
       "5   1967.0  11537966.0    34.020  836.197138  Asia_Afghanistan\n",
       "6   1972.0  13079460.0    36.088  739.981106  Asia_Afghanistan\n",
       "7   1977.0  14880372.0    38.438  786.113360  Asia_Afghanistan\n",
       "8   1982.0  12881816.0    39.854  978.011439  Asia_Afghanistan\n",
       "9   1987.0  13867957.0    40.822  852.395945  Asia_Afghanistan\n",
       "10  1992.0  16317921.0    41.674  649.341395  Asia_Afghanistan"
      ]
     },
     "execution_count": 18,
     "metadata": {},
     "output_type": "execute_result"
    }
   ],
   "source": [
    "# Add code here to print the first ten rows of gapminder2.\n",
    "gapminder2.head(10)"
   ]
  },
  {
   "cell_type": "markdown",
   "metadata": {},
   "source": [
    "***"
   ]
  },
  {
   "cell_type": "markdown",
   "metadata": {},
   "source": [
    "#### Examine the first ten rows of the index carefully. Notice anything unusual? Explain why the index appears the way it does."
   ]
  },
  {
   "cell_type": "markdown",
   "metadata": {},
   "source": [
    "*Type your answer here.*"
   ]
  },
  {
   "cell_type": "markdown",
   "metadata": {},
   "source": [
    "***"
   ]
  },
  {
   "cell_type": "markdown",
   "metadata": {},
   "source": [
    "In some situations, it might be helpful to know how the rows of `gapminder2` correspond to their original positions in the original `gapminder` DataFrame. However, in this case, we really only care about `gapminder2`. (The rows we removed did not represent real and accurate data.) So it will be more helpful to reset the index."
   ]
  },
  {
   "cell_type": "markdown",
   "metadata": {},
   "source": [
    "The `reset_index()` method will fix this. Note that `reset_index()`&mdash;like `dropna()`&mdash;requires us to reassign the results. Here, though, we will just overwrite `gapminder2` instead of creating a new variable. Also note the argument `drop = True` that tells Python not to keep the old index hanging around."
   ]
  },
  {
   "cell_type": "markdown",
   "metadata": {},
   "source": [
    "#### Run the following code to reset the index."
   ]
  },
  {
   "cell_type": "code",
   "execution_count": 19,
   "metadata": {
    "collapsed": false,
    "jupyter": {
     "outputs_hidden": false
    }
   },
   "outputs": [],
   "source": [
    "# Run this code to reset the index.\n",
    "gapminder2 = gapminder2.reset_index(drop = True)"
   ]
  },
  {
   "cell_type": "markdown",
   "metadata": {},
   "source": [
    "#### Print the first ten rows of `gapminder2` again to make sure this worked."
   ]
  },
  {
   "cell_type": "code",
   "execution_count": 20,
   "metadata": {
    "collapsed": false,
    "jupyter": {
     "outputs_hidden": false
    }
   },
   "outputs": [
    {
     "data": {
      "text/html": [
       "<div>\n",
       "<style scoped>\n",
       "    .dataframe tbody tr th:only-of-type {\n",
       "        vertical-align: middle;\n",
       "    }\n",
       "\n",
       "    .dataframe tbody tr th {\n",
       "        vertical-align: top;\n",
       "    }\n",
       "\n",
       "    .dataframe thead th {\n",
       "        text-align: right;\n",
       "    }\n",
       "</style>\n",
       "<table border=\"1\" class=\"dataframe\">\n",
       "  <thead>\n",
       "    <tr style=\"text-align: right;\">\n",
       "      <th></th>\n",
       "      <th>year</th>\n",
       "      <th>pop</th>\n",
       "      <th>life Exp</th>\n",
       "      <th>gdpPercap</th>\n",
       "      <th>region</th>\n",
       "    </tr>\n",
       "  </thead>\n",
       "  <tbody>\n",
       "    <tr>\n",
       "      <td>0</td>\n",
       "      <td>1952.0</td>\n",
       "      <td>8425333.0</td>\n",
       "      <td>28.801</td>\n",
       "      <td>779.445314</td>\n",
       "      <td>Asia_Afghanistan</td>\n",
       "    </tr>\n",
       "    <tr>\n",
       "      <td>1</td>\n",
       "      <td>1957.0</td>\n",
       "      <td>9240934.0</td>\n",
       "      <td>30.332</td>\n",
       "      <td>820.853030</td>\n",
       "      <td>Asia_Afghanistan</td>\n",
       "    </tr>\n",
       "    <tr>\n",
       "      <td>2</td>\n",
       "      <td>1957.0</td>\n",
       "      <td>9240934.0</td>\n",
       "      <td>30.332</td>\n",
       "      <td>820.853030</td>\n",
       "      <td>Asia_Afghanistan</td>\n",
       "    </tr>\n",
       "    <tr>\n",
       "      <td>3</td>\n",
       "      <td>1962.0</td>\n",
       "      <td>10267083.0</td>\n",
       "      <td>31.997</td>\n",
       "      <td>853.100710</td>\n",
       "      <td>Asia_Afghanistan</td>\n",
       "    </tr>\n",
       "    <tr>\n",
       "      <td>4</td>\n",
       "      <td>1967.0</td>\n",
       "      <td>11537966.0</td>\n",
       "      <td>34.020</td>\n",
       "      <td>836.197138</td>\n",
       "      <td>Asia_Afghanistan</td>\n",
       "    </tr>\n",
       "    <tr>\n",
       "      <td>5</td>\n",
       "      <td>1972.0</td>\n",
       "      <td>13079460.0</td>\n",
       "      <td>36.088</td>\n",
       "      <td>739.981106</td>\n",
       "      <td>Asia_Afghanistan</td>\n",
       "    </tr>\n",
       "    <tr>\n",
       "      <td>6</td>\n",
       "      <td>1977.0</td>\n",
       "      <td>14880372.0</td>\n",
       "      <td>38.438</td>\n",
       "      <td>786.113360</td>\n",
       "      <td>Asia_Afghanistan</td>\n",
       "    </tr>\n",
       "    <tr>\n",
       "      <td>7</td>\n",
       "      <td>1982.0</td>\n",
       "      <td>12881816.0</td>\n",
       "      <td>39.854</td>\n",
       "      <td>978.011439</td>\n",
       "      <td>Asia_Afghanistan</td>\n",
       "    </tr>\n",
       "    <tr>\n",
       "      <td>8</td>\n",
       "      <td>1987.0</td>\n",
       "      <td>13867957.0</td>\n",
       "      <td>40.822</td>\n",
       "      <td>852.395945</td>\n",
       "      <td>Asia_Afghanistan</td>\n",
       "    </tr>\n",
       "    <tr>\n",
       "      <td>9</td>\n",
       "      <td>1992.0</td>\n",
       "      <td>16317921.0</td>\n",
       "      <td>41.674</td>\n",
       "      <td>649.341395</td>\n",
       "      <td>Asia_Afghanistan</td>\n",
       "    </tr>\n",
       "  </tbody>\n",
       "</table>\n",
       "</div>"
      ],
      "text/plain": [
       "     year         pop  life Exp   gdpPercap            region\n",
       "0  1952.0   8425333.0    28.801  779.445314  Asia_Afghanistan\n",
       "1  1957.0   9240934.0    30.332  820.853030  Asia_Afghanistan\n",
       "2  1957.0   9240934.0    30.332  820.853030  Asia_Afghanistan\n",
       "3  1962.0  10267083.0    31.997  853.100710  Asia_Afghanistan\n",
       "4  1967.0  11537966.0    34.020  836.197138  Asia_Afghanistan\n",
       "5  1972.0  13079460.0    36.088  739.981106  Asia_Afghanistan\n",
       "6  1977.0  14880372.0    38.438  786.113360  Asia_Afghanistan\n",
       "7  1982.0  12881816.0    39.854  978.011439  Asia_Afghanistan\n",
       "8  1987.0  13867957.0    40.822  852.395945  Asia_Afghanistan\n",
       "9  1992.0  16317921.0    41.674  649.341395  Asia_Afghanistan"
      ]
     },
     "execution_count": 20,
     "metadata": {},
     "output_type": "execute_result"
    }
   ],
   "source": [
    "# Add code here to print the first ten rows of gapminder2.\n",
    "gapminder2.head(10)"
   ]
  },
  {
   "cell_type": "markdown",
   "metadata": {},
   "source": [
    "### Remove duplicates\n",
    "\n",
    "First, here's a nice trick: if you want to examine a *subset* of the rows&mdash;for example, to examine a region with too many observations&mdash;you can use code like this:\n",
    "\n",
    "```\n",
    "DataFrame[DataFrame.column == \"value_in_column\"]\n",
    "```\n",
    "\n",
    "where `column` is the name of a column and `value_in_column` is what you're interested in, for example the name of a specific region.\n",
    "\n",
    "**Note the double equal sign:** single equal signs are used in Python to **assign** something to a variable (similar to `<-` in R if you are familiar with that). The double equal sign is a comparison: in this case, the value from the column on the left has to be *exactly* equal to the value string on the right."
   ]
  },
  {
   "cell_type": "markdown",
   "metadata": {},
   "source": [
    "#### Write code in the cell below to look at the region \"Americas_Dominican Republic\""
   ]
  },
  {
   "cell_type": "code",
   "execution_count": 21,
   "metadata": {
    "collapsed": false,
    "jupyter": {
     "outputs_hidden": false
    }
   },
   "outputs": [
    {
     "data": {
      "text/html": [
       "<div>\n",
       "<style scoped>\n",
       "    .dataframe tbody tr th:only-of-type {\n",
       "        vertical-align: middle;\n",
       "    }\n",
       "\n",
       "    .dataframe tbody tr th {\n",
       "        vertical-align: top;\n",
       "    }\n",
       "\n",
       "    .dataframe thead th {\n",
       "        text-align: right;\n",
       "    }\n",
       "</style>\n",
       "<table border=\"1\" class=\"dataframe\">\n",
       "  <thead>\n",
       "    <tr style=\"text-align: right;\">\n",
       "      <th></th>\n",
       "      <th>year</th>\n",
       "      <th>pop</th>\n",
       "      <th>life Exp</th>\n",
       "      <th>gdpPercap</th>\n",
       "      <th>region</th>\n",
       "    </tr>\n",
       "  </thead>\n",
       "  <tbody>\n",
       "    <tr>\n",
       "      <td>436</td>\n",
       "      <td>1952.0</td>\n",
       "      <td>2491346.0</td>\n",
       "      <td>45.928</td>\n",
       "      <td>1397.717137</td>\n",
       "      <td>Americas_Dominican Republic</td>\n",
       "    </tr>\n",
       "    <tr>\n",
       "      <td>437</td>\n",
       "      <td>1957.0</td>\n",
       "      <td>2923186.0</td>\n",
       "      <td>49.828</td>\n",
       "      <td>1544.402995</td>\n",
       "      <td>Americas_Dominican Republic</td>\n",
       "    </tr>\n",
       "    <tr>\n",
       "      <td>438</td>\n",
       "      <td>1962.0</td>\n",
       "      <td>3453434.0</td>\n",
       "      <td>53.459</td>\n",
       "      <td>1662.137359</td>\n",
       "      <td>Americas_Dominican Republic</td>\n",
       "    </tr>\n",
       "    <tr>\n",
       "      <td>439</td>\n",
       "      <td>1967.0</td>\n",
       "      <td>4049146.0</td>\n",
       "      <td>56.751</td>\n",
       "      <td>1653.723003</td>\n",
       "      <td>Americas_Dominican Republic</td>\n",
       "    </tr>\n",
       "    <tr>\n",
       "      <td>440</td>\n",
       "      <td>1967.0</td>\n",
       "      <td>4049146.0</td>\n",
       "      <td>56.751</td>\n",
       "      <td>1653.723003</td>\n",
       "      <td>Americas_Dominican Republic</td>\n",
       "    </tr>\n",
       "    <tr>\n",
       "      <td>441</td>\n",
       "      <td>1967.0</td>\n",
       "      <td>4049146.0</td>\n",
       "      <td>56.751</td>\n",
       "      <td>1653.723003</td>\n",
       "      <td>Americas_Dominican Republic</td>\n",
       "    </tr>\n",
       "    <tr>\n",
       "      <td>442</td>\n",
       "      <td>1972.0</td>\n",
       "      <td>4671329.0</td>\n",
       "      <td>59.631</td>\n",
       "      <td>2189.874499</td>\n",
       "      <td>Americas_Dominican Republic</td>\n",
       "    </tr>\n",
       "    <tr>\n",
       "      <td>443</td>\n",
       "      <td>1977.0</td>\n",
       "      <td>5302800.0</td>\n",
       "      <td>61.788</td>\n",
       "      <td>2681.988900</td>\n",
       "      <td>Americas_Dominican Republic</td>\n",
       "    </tr>\n",
       "    <tr>\n",
       "      <td>444</td>\n",
       "      <td>1982.0</td>\n",
       "      <td>5968349.0</td>\n",
       "      <td>63.727</td>\n",
       "      <td>2861.092386</td>\n",
       "      <td>Americas_Dominican Republic</td>\n",
       "    </tr>\n",
       "    <tr>\n",
       "      <td>445</td>\n",
       "      <td>1987.0</td>\n",
       "      <td>6655297.0</td>\n",
       "      <td>66.046</td>\n",
       "      <td>2899.842175</td>\n",
       "      <td>Americas_Dominican Republic</td>\n",
       "    </tr>\n",
       "    <tr>\n",
       "      <td>446</td>\n",
       "      <td>1992.0</td>\n",
       "      <td>7351181.0</td>\n",
       "      <td>68.457</td>\n",
       "      <td>3044.214214</td>\n",
       "      <td>Americas_Dominican Republic</td>\n",
       "    </tr>\n",
       "    <tr>\n",
       "      <td>447</td>\n",
       "      <td>1997.0</td>\n",
       "      <td>7992357.0</td>\n",
       "      <td>69.957</td>\n",
       "      <td>3614.101285</td>\n",
       "      <td>Americas_Dominican Republic</td>\n",
       "    </tr>\n",
       "    <tr>\n",
       "      <td>448</td>\n",
       "      <td>2002.0</td>\n",
       "      <td>8650322.0</td>\n",
       "      <td>70.847</td>\n",
       "      <td>4563.808154</td>\n",
       "      <td>Americas_Dominican Republic</td>\n",
       "    </tr>\n",
       "    <tr>\n",
       "      <td>449</td>\n",
       "      <td>2007.0</td>\n",
       "      <td>9319622.0</td>\n",
       "      <td>72.235</td>\n",
       "      <td>6025.374752</td>\n",
       "      <td>Americas_Dominican Republic</td>\n",
       "    </tr>\n",
       "  </tbody>\n",
       "</table>\n",
       "</div>"
      ],
      "text/plain": [
       "       year        pop  life Exp    gdpPercap                       region\n",
       "436  1952.0  2491346.0    45.928  1397.717137  Americas_Dominican Republic\n",
       "437  1957.0  2923186.0    49.828  1544.402995  Americas_Dominican Republic\n",
       "438  1962.0  3453434.0    53.459  1662.137359  Americas_Dominican Republic\n",
       "439  1967.0  4049146.0    56.751  1653.723003  Americas_Dominican Republic\n",
       "440  1967.0  4049146.0    56.751  1653.723003  Americas_Dominican Republic\n",
       "441  1967.0  4049146.0    56.751  1653.723003  Americas_Dominican Republic\n",
       "442  1972.0  4671329.0    59.631  2189.874499  Americas_Dominican Republic\n",
       "443  1977.0  5302800.0    61.788  2681.988900  Americas_Dominican Republic\n",
       "444  1982.0  5968349.0    63.727  2861.092386  Americas_Dominican Republic\n",
       "445  1987.0  6655297.0    66.046  2899.842175  Americas_Dominican Republic\n",
       "446  1992.0  7351181.0    68.457  3044.214214  Americas_Dominican Republic\n",
       "447  1997.0  7992357.0    69.957  3614.101285  Americas_Dominican Republic\n",
       "448  2002.0  8650322.0    70.847  4563.808154  Americas_Dominican Republic\n",
       "449  2007.0  9319622.0    72.235  6025.374752  Americas_Dominican Republic"
      ]
     },
     "execution_count": 21,
     "metadata": {},
     "output_type": "execute_result"
    }
   ],
   "source": [
    "# Add code here to examine the rows from the \"Americas_Dominican Republic\" region.\n",
    "gapminder2[gapminder2.region == 'Americas_Dominican Republic']"
   ]
  },
  {
   "cell_type": "markdown",
   "metadata": {},
   "source": [
    "***"
   ]
  },
  {
   "cell_type": "markdown",
   "metadata": {},
   "source": [
    "#### Look closely at the output above to determine why the \"Americans_Dominican Republic\" region has more than the 12 observations we are expecting?"
   ]
  },
  {
   "cell_type": "markdown",
   "metadata": {},
   "source": [
    "*Type your answer here.*"
   ]
  },
  {
   "cell_type": "markdown",
   "metadata": {},
   "source": [
    "***"
   ]
  },
  {
   "cell_type": "markdown",
   "metadata": {},
   "source": [
    "Sometimes observations can end up in the data set more than once creating a duplicate row. Luckily, `pandas` has methods that allow us to identify which observations are duplicates. The method `df.duplicated()` will return `True` or `False` values for each row in the DataFrame telling you whether or not a row is an exact repeat."
   ]
  },
  {
   "cell_type": "markdown",
   "metadata": {},
   "source": [
    "#### Run the following code to see how it works."
   ]
  },
  {
   "cell_type": "code",
   "execution_count": 22,
   "metadata": {
    "collapsed": false,
    "jupyter": {
     "outputs_hidden": false
    }
   },
   "outputs": [
    {
     "data": {
      "text/plain": [
       "0    False\n",
       "1    False\n",
       "2     True\n",
       "3    False\n",
       "4    False\n",
       "dtype: bool"
      ]
     },
     "execution_count": 22,
     "metadata": {},
     "output_type": "execute_result"
    }
   ],
   "source": [
    "## Run this code to get output for each row indicating if it's a duplicate row. (This will only look at the first five rows.)\n",
    "gapminder2.duplicated().head()"
   ]
  },
  {
   "cell_type": "markdown",
   "metadata": {},
   "source": [
    "Since we don't want repeated rows (each country should only have one row per year), we can easily drop them with the `drop_duplicates()` method.\n",
    "\n",
    "*Note:* The `drop_duplicates()` method is another one that does not work \"in place\". If you want to store the DataFrame without duplicate rows, you need to assign it again as follows:\n",
    "\n",
    "```\n",
    "DataFrame = DataFrame.drop_duplicates()\n",
    "```\n",
    "\n",
    "**Warning:** You should always be be cautious when dropping rows from your data."
   ]
  },
  {
   "cell_type": "markdown",
   "metadata": {},
   "source": [
    "***"
   ]
  },
  {
   "cell_type": "markdown",
   "metadata": {},
   "source": [
    "#### Justify why it's okay for us to drop these rows."
   ]
  },
  {
   "cell_type": "markdown",
   "metadata": {},
   "source": [
    "*Type your answer here.*"
   ]
  },
  {
   "cell_type": "markdown",
   "metadata": {},
   "source": [
    "***"
   ]
  },
  {
   "cell_type": "markdown",
   "metadata": {},
   "source": [
    "#### Write code in the following cell to remove the duplicated rows from `gapminder2` and assign the resulting output back to `gapminder2`."
   ]
  },
  {
   "cell_type": "code",
   "execution_count": 23,
   "metadata": {
    "collapsed": false,
    "jupyter": {
     "outputs_hidden": false
    }
   },
   "outputs": [],
   "source": [
    "# Add code here to remove duplicate rows from gapminder2.\n",
    "gapminder2 = gapminder2.drop_duplicates()"
   ]
  },
  {
   "cell_type": "markdown",
   "metadata": {},
   "source": [
    "#### Use code to confirm that the first five rows no longer contain a duplicate row."
   ]
  },
  {
   "cell_type": "code",
   "execution_count": 24,
   "metadata": {
    "collapsed": false,
    "jupyter": {
     "outputs_hidden": false
    }
   },
   "outputs": [
    {
     "data": {
      "text/plain": [
       "0    False\n",
       "1    False\n",
       "3    False\n",
       "4    False\n",
       "5    False\n",
       "dtype: bool"
      ]
     },
     "execution_count": 24,
     "metadata": {},
     "output_type": "execute_result"
    }
   ],
   "source": [
    "# Add code here to check the first five rows for duplicate rows.\n",
    "gapminder2.duplicated().head(5)"
   ]
  },
  {
   "cell_type": "markdown",
   "metadata": {},
   "source": [
    "### Data types"
   ]
  },
  {
   "cell_type": "markdown",
   "metadata": {},
   "source": [
    "Now that we have cleaned the data, we can take a close look at data types. Recall that the `info()` method shows us how the variables are stored:"
   ]
  },
  {
   "cell_type": "markdown",
   "metadata": {},
   "source": [
    "#### Run the following code to check the data types for each variable."
   ]
  },
  {
   "cell_type": "code",
   "execution_count": 25,
   "metadata": {
    "collapsed": false,
    "jupyter": {
     "outputs_hidden": false
    }
   },
   "outputs": [
    {
     "name": "stdout",
     "output_type": "stream",
     "text": [
      "<class 'pandas.core.frame.DataFrame'>\n",
      "Int64Index: 1704 entries, 0 to 1711\n",
      "Data columns (total 5 columns):\n",
      "year         1704 non-null float64\n",
      "pop          1704 non-null float64\n",
      "life Exp     1704 non-null float64\n",
      "gdpPercap    1704 non-null float64\n",
      "region       1704 non-null object\n",
      "dtypes: float64(4), object(1)\n",
      "memory usage: 79.9+ KB\n"
     ]
    }
   ],
   "source": [
    "# Run this code to check the data types for each variable.\n",
    "gapminder2.info()"
   ]
  },
  {
   "cell_type": "markdown",
   "metadata": {},
   "source": [
    "Notice that the `year` variable says `float64`. A \"float\" variable contains numbers that might include decimals. This is kind of meaningless for `year` since the year has to be a whole number. So let's change it to an \"integer\" data type. It's important to clean the data before trying to use the `astype()` method because `astype()` (along with many other `pandas` methods) will fail if there is missing data."
   ]
  },
  {
   "cell_type": "markdown",
   "metadata": {},
   "source": [
    "#### Run the following code to convert the `year` column to integers."
   ]
  },
  {
   "cell_type": "code",
   "execution_count": 26,
   "metadata": {
    "collapsed": false,
    "jupyter": {
     "outputs_hidden": false
    }
   },
   "outputs": [
    {
     "name": "stdout",
     "output_type": "stream",
     "text": [
      "<class 'pandas.core.frame.DataFrame'>\n",
      "Int64Index: 1704 entries, 0 to 1711\n",
      "Data columns (total 5 columns):\n",
      "year         1704 non-null int64\n",
      "pop          1704 non-null float64\n",
      "life Exp     1704 non-null float64\n",
      "gdpPercap    1704 non-null float64\n",
      "region       1704 non-null object\n",
      "dtypes: float64(3), int64(1), object(1)\n",
      "memory usage: 79.9+ KB\n"
     ]
    }
   ],
   "source": [
    "# Run this code to covert the year column to integers and check that it worked.\n",
    "gapminder2[\"year\"] = gapminder2[\"year\"].astype(\"int\")\n",
    "gapminder2.info()"
   ]
  },
  {
   "cell_type": "markdown",
   "metadata": {},
   "source": [
    "***"
   ]
  },
  {
   "cell_type": "markdown",
   "metadata": {},
   "source": [
    "#### Which other column should be stored as integers?"
   ]
  },
  {
   "cell_type": "markdown",
   "metadata": {},
   "source": [
    "*Type your answer here*"
   ]
  },
  {
   "cell_type": "markdown",
   "metadata": {},
   "source": [
    "***"
   ]
  },
  {
   "cell_type": "markdown",
   "metadata": {},
   "source": [
    "#### Write code below to convert that column to an integer data type. In the same cell, use `info()` again to check that it worked."
   ]
  },
  {
   "cell_type": "code",
   "execution_count": 27,
   "metadata": {
    "collapsed": false,
    "jupyter": {
     "outputs_hidden": false
    }
   },
   "outputs": [
    {
     "name": "stdout",
     "output_type": "stream",
     "text": [
      "<class 'pandas.core.frame.DataFrame'>\n",
      "Int64Index: 1704 entries, 0 to 1711\n",
      "Data columns (total 5 columns):\n",
      "year         1704 non-null int64\n",
      "pop          1704 non-null int64\n",
      "life Exp     1704 non-null float64\n",
      "gdpPercap    1704 non-null float64\n",
      "region       1704 non-null object\n",
      "dtypes: float64(2), int64(2), object(1)\n",
      "memory usage: 79.9+ KB\n"
     ]
    }
   ],
   "source": [
    "# Add code here to convert another column to an integer data type and check that it worked.\n",
    "gapminder2[\"pop\"] = gapminder2[\"pop\"].astype(\"int\")\n",
    "gapminder2.info()\n"
   ]
  },
  {
   "cell_type": "markdown",
   "metadata": {},
   "source": [
    "### Handling Inconsistent Data\n",
    "\n",
    "The `region` column still has issues that will affect our analysis."
   ]
  },
  {
   "cell_type": "markdown",
   "metadata": {},
   "source": [
    "#### Write code below to check the value counts again by region. (You've seen the command already above. Just copy it here.)"
   ]
  },
  {
   "cell_type": "code",
   "execution_count": 28,
   "metadata": {
    "collapsed": false,
    "jupyter": {
     "outputs_hidden": false
    }
   },
   "outputs": [
    {
     "data": {
      "text/plain": [
       "Asia_Vietnam                               12\n",
       "Asia_Iraq                                  12\n",
       "Africa_Morocco                             12\n",
       "Asia_Afghanistan                           12\n",
       "Africa_Uganda                              12\n",
       "                                           ..\n",
       "Americas_Colombia                           2\n",
       "    Asia_Jordan                             1\n",
       "Africa_Congo, Democratic Republic           1\n",
       "Africa_Cote d'Ivore                         1\n",
       "Africa_Democratic Republic of the Congo     1\n",
       "Name: region, Length: 151, dtype: int64"
      ]
     },
     "execution_count": 28,
     "metadata": {},
     "output_type": "execute_result"
    }
   ],
   "source": [
    "# Add code here to check the value counts by region.\n",
    "gapminder2['region'].value_counts()"
   ]
  },
  {
   "cell_type": "markdown",
   "metadata": {},
   "source": [
    "***"
   ]
  },
  {
   "cell_type": "markdown",
   "metadata": {},
   "source": [
    "#### What has been fixed about our value counts?"
   ]
  },
  {
   "cell_type": "markdown",
   "metadata": {},
   "source": [
    "*Type your answer here.*"
   ]
  },
  {
   "cell_type": "markdown",
   "metadata": {},
   "source": [
    "#### What still needs to be fixed about our value counts?"
   ]
  },
  {
   "cell_type": "markdown",
   "metadata": {},
   "source": [
    "*Type your answer here.*"
   ]
  },
  {
   "cell_type": "markdown",
   "metadata": {},
   "source": [
    "***"
   ]
  },
  {
   "cell_type": "markdown",
   "metadata": {},
   "source": [
    "### String manipulations\n",
    "\n",
    "Variables with text in them (called \"character\" or \"string\" variables) have some common problems:\n",
    "\n",
    "* Lingering white space, usually at the end (which is not obvious when looking at the text).\n",
    "* Uppercase and lowercase inconsistencies.\n",
    "\n",
    "The latter issue is problematic because uppercase and lowercase characters are considered different characters by Python."
   ]
  },
  {
   "cell_type": "markdown",
   "metadata": {},
   "source": [
    "#### Run the following code to check this."
   ]
  },
  {
   "cell_type": "code",
   "execution_count": 29,
   "metadata": {
    "collapsed": false,
    "jupyter": {
     "outputs_hidden": false
    }
   },
   "outputs": [
    {
     "data": {
      "text/plain": [
       "False"
      ]
     },
     "execution_count": 29,
     "metadata": {},
     "output_type": "execute_result"
    }
   ],
   "source": [
    "# Run this code to see that Python treats uppercase and lowercase differently.\n",
    "\"ABC\" == \"abc\""
   ]
  },
  {
   "cell_type": "markdown",
   "metadata": {},
   "source": [
    "The following three methods are \"string methods\"(hence the `str`) that deal with these issues:\n",
    "\n",
    "* `str.lstrip()` strips whitespace from the left.\n",
    "* `str.rstrip()` strips whitespace from the right.\n",
    "* `str.lower()` converts all characters to lowercase.\n",
    "\n",
    "Here's how they look:\n",
    "\n",
    "```\n",
    "DataFrame[\"column_name\"] = DataFrame[\"column_name\"].str.lstrip()\n",
    "DataFrame[\"column_name\"] = DataFrame[\"column_name\"].str.rstrip()\n",
    "DataFrame[\"column_name\"] = DataFrame[\"column_name\"].str.lower()\n",
    "```\n",
    "\n",
    "*Note:* None of these methods work in place, so each needs to be stored back in the same column."
   ]
  },
  {
   "cell_type": "markdown",
   "metadata": {},
   "source": [
    "#### Write code that strips the white space from both sides of the values in the `region` column of `gapminder2` and makes all of the values lower case. Assign the results back to `gapminder2`."
   ]
  },
  {
   "cell_type": "code",
   "execution_count": 30,
   "metadata": {
    "collapsed": false,
    "jupyter": {
     "outputs_hidden": false
    },
    "scrolled": true
   },
   "outputs": [
    {
     "data": {
      "text/plain": [
       "europe_france                              12\n",
       "africa_kenya                               12\n",
       "asia_vietnam                               12\n",
       "africa_djibouti                            12\n",
       "africa_comoros                             12\n",
       "                                           ..\n",
       "americas_canada                             9\n",
       "_canada                                     3\n",
       "africa_congo, democratic republic           1\n",
       "africa_cote d'ivore                         1\n",
       "africa_democratic republic of the congo     1\n",
       "Name: region, Length: 146, dtype: int64"
      ]
     },
     "execution_count": 30,
     "metadata": {},
     "output_type": "execute_result"
    }
   ],
   "source": [
    "# Add code here to strip white space on both left and right of region names and convert them to lowercase.\n",
    "# (This will require three separate lines of code, but you can put all three lines in this cell.)\n",
    "\n",
    "gapminder2['region'] = gapminder2['region'].str.strip().str.lower()\n",
    "gapminder2['region'].value_counts()\n"
   ]
  },
  {
   "cell_type": "markdown",
   "metadata": {},
   "source": [
    "#### Write code to check the `value_counts()` again to see the effect of the previous code cell."
   ]
  },
  {
   "cell_type": "code",
   "execution_count": 31,
   "metadata": {
    "collapsed": false,
    "jupyter": {
     "outputs_hidden": false
    }
   },
   "outputs": [
    {
     "data": {
      "text/plain": [
       "europe_france                              12\n",
       "africa_kenya                               12\n",
       "asia_vietnam                               12\n",
       "africa_djibouti                            12\n",
       "africa_comoros                             12\n",
       "                                           ..\n",
       "americas_canada                             9\n",
       "_canada                                     3\n",
       "africa_congo, democratic republic           1\n",
       "africa_cote d'ivore                         1\n",
       "africa_democratic republic of the congo     1\n",
       "Name: region, Length: 146, dtype: int64"
      ]
     },
     "execution_count": 31,
     "metadata": {},
     "output_type": "execute_result"
    }
   ],
   "source": [
    "# Add code here to check the counts for each region.\n",
    "gapminder2['region'].value_counts()"
   ]
  },
  {
   "cell_type": "markdown",
   "metadata": {},
   "source": [
    "***"
   ]
  },
  {
   "cell_type": "markdown",
   "metadata": {},
   "source": [
    "#### Are we there yet? What is still wrong with the `region` column?"
   ]
  },
  {
   "cell_type": "markdown",
   "metadata": {},
   "source": [
    "*Type your answer here.*"
   ]
  },
  {
   "cell_type": "markdown",
   "metadata": {},
   "source": [
    "***"
   ]
  },
  {
   "cell_type": "markdown",
   "metadata": {},
   "source": [
    "### Fixing the last few regions\n",
    "\n",
    "At some point, data cleaning requires more manual intervention. Since we can see the regions that are recorded in error, we just need to fix them one at a time.\n",
    "\n",
    "The `replace()` method is probably the easiest way to do that."
   ]
  },
  {
   "cell_type": "markdown",
   "metadata": {},
   "source": [
    "#### Run the following code to fix Canada."
   ]
  },
  {
   "cell_type": "code",
   "execution_count": 32,
   "metadata": {
    "collapsed": false,
    "jupyter": {
     "outputs_hidden": false
    },
    "scrolled": true
   },
   "outputs": [],
   "source": [
    "# Run this code to fix Canada.\n",
    "gapminder2[\"region\"] = gapminder2[\"region\"].replace(\"_canada\", \"americas_canada\")"
   ]
  },
  {
   "cell_type": "markdown",
   "metadata": {},
   "source": [
    "#### Now write several more lines of code to fix the remaining misrecorded regions."
   ]
  },
  {
   "cell_type": "code",
   "execution_count": 33,
   "metadata": {
    "collapsed": false,
    "jupyter": {
     "outputs_hidden": false
    }
   },
   "outputs": [],
   "source": [
    "# Add code here to fix the remaining misrecorded regions.\n",
    "\n",
    "\n",
    "gapminder2['region'].replace(\"africa_cote.*\", \"africa_cote d'ivoire \", regex=True, inplace=True)"
   ]
  },
  {
   "cell_type": "markdown",
   "metadata": {},
   "source": [
    "#### Print counts for each region one last time to make sure everything is truly fixed now."
   ]
  },
  {
   "cell_type": "code",
   "execution_count": 34,
   "metadata": {
    "collapsed": false,
    "jupyter": {
     "outputs_hidden": false
    }
   },
   "outputs": [
    {
     "data": {
      "text/plain": [
       "europe_france                              12\n",
       "africa_kenya                               12\n",
       "asia_vietnam                               12\n",
       "africa_djibouti                            12\n",
       "africa_comoros                             12\n",
       "                                           ..\n",
       "europe_iceland                             12\n",
       "americas_jamaica                           12\n",
       "africa_congo, dem. rep.                    10\n",
       "africa_congo, democratic republic           1\n",
       "africa_democratic republic of the congo     1\n",
       "Name: region, Length: 144, dtype: int64"
      ]
     },
     "execution_count": 34,
     "metadata": {},
     "output_type": "execute_result"
    }
   ],
   "source": [
    "# Add code here to print counts for each region.\n",
    "gapminder2['region'].value_counts()"
   ]
  },
  {
   "cell_type": "markdown",
   "metadata": {},
   "source": [
    "## Tidy data"
   ]
  },
  {
   "cell_type": "markdown",
   "metadata": {},
   "source": [
    "Having what is called a *tidy* data set can make cleaning and analyzing your data much easier. Two of the important aspects of tidy data are:\n",
    "* every variable has its own column,\n",
    "* every observation has its own row.\n",
    "\n",
    "There are other aspects of tidy data as well. Here is a good blog post about [tidy data in Python](http://www.jeannicholashould.com/tidy-data-in-python.html).\n",
    "\n",
    "Currently the dataset has a single column for continent and country (the `region` column).\n"
   ]
  },
  {
   "cell_type": "markdown",
   "metadata": {},
   "source": [
    "***"
   ]
  },
  {
   "cell_type": "markdown",
   "metadata": {},
   "source": [
    "#### Why is having a single column for continent and country not tidy?"
   ]
  },
  {
   "cell_type": "markdown",
   "metadata": {},
   "source": [
    "*Type your answer here*"
   ]
  },
  {
   "cell_type": "markdown",
   "metadata": {},
   "source": [
    "***"
   ]
  },
  {
   "cell_type": "markdown",
   "metadata": {},
   "source": [
    "### Let's make `gapminder` tidy\n",
    "\n",
    "We can split the `region` column into two by using the underscore that separates continent from country.\n",
    "\n",
    "We'll use the string method `split()` to split the string at the underscore (the first argument), which results in a list of two elements: before and after the underscore. The second argument, in this case `\"1\"`, tells `split()` that the split should take place only at the first occurrence of the underscore. Then the `str[]` specifies which item (either 0 or 1) to return.\n",
    "\n",
    "So that we don't mess up the original `gapminder2` region column, let's create `gapminder3` as a home for our new columns."
   ]
  },
  {
   "cell_type": "markdown",
   "metadata": {},
   "source": [
    "#### Run the following code, which simply makes a copy of `gapminder2` and calls it `gapminder3`."
   ]
  },
  {
   "cell_type": "code",
   "execution_count": 35,
   "metadata": {
    "collapsed": false,
    "jupyter": {
     "outputs_hidden": false
    }
   },
   "outputs": [],
   "source": [
    "# Run this code to make a new copy of gapminder2 called gapminder3.\n",
    "gapminder3 = gapminder2.copy()"
   ]
  },
  {
   "cell_type": "markdown",
   "metadata": {},
   "source": [
    "#### Run the following code to split the current `region` column into proper `continent` and `country` columns."
   ]
  },
  {
   "cell_type": "code",
   "execution_count": 36,
   "metadata": {
    "collapsed": false,
    "jupyter": {
     "outputs_hidden": false
    },
    "scrolled": true
   },
   "outputs": [
    {
     "data": {
      "text/html": [
       "<div>\n",
       "<style scoped>\n",
       "    .dataframe tbody tr th:only-of-type {\n",
       "        vertical-align: middle;\n",
       "    }\n",
       "\n",
       "    .dataframe tbody tr th {\n",
       "        vertical-align: top;\n",
       "    }\n",
       "\n",
       "    .dataframe thead th {\n",
       "        text-align: right;\n",
       "    }\n",
       "</style>\n",
       "<table border=\"1\" class=\"dataframe\">\n",
       "  <thead>\n",
       "    <tr style=\"text-align: right;\">\n",
       "      <th></th>\n",
       "      <th>year</th>\n",
       "      <th>pop</th>\n",
       "      <th>life Exp</th>\n",
       "      <th>gdpPercap</th>\n",
       "      <th>region</th>\n",
       "      <th>continent</th>\n",
       "      <th>country</th>\n",
       "    </tr>\n",
       "  </thead>\n",
       "  <tbody>\n",
       "    <tr>\n",
       "      <td>0</td>\n",
       "      <td>1952</td>\n",
       "      <td>8425333</td>\n",
       "      <td>28.801</td>\n",
       "      <td>779.445314</td>\n",
       "      <td>asia_afghanistan</td>\n",
       "      <td>asia</td>\n",
       "      <td>afghanistan</td>\n",
       "    </tr>\n",
       "    <tr>\n",
       "      <td>1</td>\n",
       "      <td>1957</td>\n",
       "      <td>9240934</td>\n",
       "      <td>30.332</td>\n",
       "      <td>820.853030</td>\n",
       "      <td>asia_afghanistan</td>\n",
       "      <td>asia</td>\n",
       "      <td>afghanistan</td>\n",
       "    </tr>\n",
       "    <tr>\n",
       "      <td>3</td>\n",
       "      <td>1962</td>\n",
       "      <td>10267083</td>\n",
       "      <td>31.997</td>\n",
       "      <td>853.100710</td>\n",
       "      <td>asia_afghanistan</td>\n",
       "      <td>asia</td>\n",
       "      <td>afghanistan</td>\n",
       "    </tr>\n",
       "    <tr>\n",
       "      <td>4</td>\n",
       "      <td>1967</td>\n",
       "      <td>11537966</td>\n",
       "      <td>34.020</td>\n",
       "      <td>836.197138</td>\n",
       "      <td>asia_afghanistan</td>\n",
       "      <td>asia</td>\n",
       "      <td>afghanistan</td>\n",
       "    </tr>\n",
       "    <tr>\n",
       "      <td>5</td>\n",
       "      <td>1972</td>\n",
       "      <td>13079460</td>\n",
       "      <td>36.088</td>\n",
       "      <td>739.981106</td>\n",
       "      <td>asia_afghanistan</td>\n",
       "      <td>asia</td>\n",
       "      <td>afghanistan</td>\n",
       "    </tr>\n",
       "  </tbody>\n",
       "</table>\n",
       "</div>"
      ],
      "text/plain": [
       "   year       pop  life Exp   gdpPercap            region continent  \\\n",
       "0  1952   8425333    28.801  779.445314  asia_afghanistan      asia   \n",
       "1  1957   9240934    30.332  820.853030  asia_afghanistan      asia   \n",
       "3  1962  10267083    31.997  853.100710  asia_afghanistan      asia   \n",
       "4  1967  11537966    34.020  836.197138  asia_afghanistan      asia   \n",
       "5  1972  13079460    36.088  739.981106  asia_afghanistan      asia   \n",
       "\n",
       "       country  \n",
       "0  afghanistan  \n",
       "1  afghanistan  \n",
       "3  afghanistan  \n",
       "4  afghanistan  \n",
       "5  afghanistan  "
      ]
     },
     "execution_count": 36,
     "metadata": {},
     "output_type": "execute_result"
    }
   ],
   "source": [
    "# Run this code to split region into continent and country.\n",
    "gapminder3[\"continent\"] = gapminder3[\"region\"].str.split('_', 1).str[0]\n",
    "gapminder3[\"country\"] = gapminder3[\"region\"].str.split('_', 1).str[1]\n",
    "gapminder3.head()"
   ]
  },
  {
   "cell_type": "markdown",
   "metadata": {},
   "source": [
    "### Removing and renaming columns\n",
    "\n",
    "We have now added the new columns `continent` and `country`, but we still have the old `region` column as well. In order to remove that column we use the `drop()` method. The first argument of `drop()` is the name of the variable to be dropped. The second argument is the *axis* number: 0 for row, 1 for column.\n",
    "\n",
    "*Note:* any time we are getting rid of stuff, we want to make sure that we are doing it for a good reason and that we know our data will be okay after."
   ]
  },
  {
   "cell_type": "markdown",
   "metadata": {},
   "source": [
    "#### Run the following code to drop the superfluous `region` column."
   ]
  },
  {
   "cell_type": "code",
   "execution_count": 37,
   "metadata": {
    "collapsed": false,
    "jupyter": {
     "outputs_hidden": false
    }
   },
   "outputs": [
    {
     "data": {
      "text/html": [
       "<div>\n",
       "<style scoped>\n",
       "    .dataframe tbody tr th:only-of-type {\n",
       "        vertical-align: middle;\n",
       "    }\n",
       "\n",
       "    .dataframe tbody tr th {\n",
       "        vertical-align: top;\n",
       "    }\n",
       "\n",
       "    .dataframe thead th {\n",
       "        text-align: right;\n",
       "    }\n",
       "</style>\n",
       "<table border=\"1\" class=\"dataframe\">\n",
       "  <thead>\n",
       "    <tr style=\"text-align: right;\">\n",
       "      <th></th>\n",
       "      <th>year</th>\n",
       "      <th>pop</th>\n",
       "      <th>life Exp</th>\n",
       "      <th>gdpPercap</th>\n",
       "      <th>continent</th>\n",
       "      <th>country</th>\n",
       "    </tr>\n",
       "  </thead>\n",
       "  <tbody>\n",
       "    <tr>\n",
       "      <td>0</td>\n",
       "      <td>1952</td>\n",
       "      <td>8425333</td>\n",
       "      <td>28.801</td>\n",
       "      <td>779.445314</td>\n",
       "      <td>asia</td>\n",
       "      <td>afghanistan</td>\n",
       "    </tr>\n",
       "    <tr>\n",
       "      <td>1</td>\n",
       "      <td>1957</td>\n",
       "      <td>9240934</td>\n",
       "      <td>30.332</td>\n",
       "      <td>820.853030</td>\n",
       "      <td>asia</td>\n",
       "      <td>afghanistan</td>\n",
       "    </tr>\n",
       "    <tr>\n",
       "      <td>3</td>\n",
       "      <td>1962</td>\n",
       "      <td>10267083</td>\n",
       "      <td>31.997</td>\n",
       "      <td>853.100710</td>\n",
       "      <td>asia</td>\n",
       "      <td>afghanistan</td>\n",
       "    </tr>\n",
       "    <tr>\n",
       "      <td>4</td>\n",
       "      <td>1967</td>\n",
       "      <td>11537966</td>\n",
       "      <td>34.020</td>\n",
       "      <td>836.197138</td>\n",
       "      <td>asia</td>\n",
       "      <td>afghanistan</td>\n",
       "    </tr>\n",
       "    <tr>\n",
       "      <td>5</td>\n",
       "      <td>1972</td>\n",
       "      <td>13079460</td>\n",
       "      <td>36.088</td>\n",
       "      <td>739.981106</td>\n",
       "      <td>asia</td>\n",
       "      <td>afghanistan</td>\n",
       "    </tr>\n",
       "  </tbody>\n",
       "</table>\n",
       "</div>"
      ],
      "text/plain": [
       "   year       pop  life Exp   gdpPercap continent      country\n",
       "0  1952   8425333    28.801  779.445314      asia  afghanistan\n",
       "1  1957   9240934    30.332  820.853030      asia  afghanistan\n",
       "3  1962  10267083    31.997  853.100710      asia  afghanistan\n",
       "4  1967  11537966    34.020  836.197138      asia  afghanistan\n",
       "5  1972  13079460    36.088  739.981106      asia  afghanistan"
      ]
     },
     "execution_count": 37,
     "metadata": {},
     "output_type": "execute_result"
    }
   ],
   "source": [
    "# Run code here to drop the region column.\n",
    "gapminder3 = gapminder3.drop('region', 1)\n",
    "gapminder3.head()"
   ]
  },
  {
   "cell_type": "markdown",
   "metadata": {},
   "source": [
    "Finally, it is a good idea to look critically at the column names themselves. It is a good idea to be as consistent as possible when naming columns. We often use all lowercase for all column names to avoid accidentally making names that can be confusing.\n",
    "\n",
    "Avoiding spaces in column names will simplify your ability to manipulate data. Also look out for lingering white space at the beginning or end of your column names."
   ]
  },
  {
   "cell_type": "markdown",
   "metadata": {},
   "source": [
    "#### Run the following code that turns all column names to lowercase."
   ]
  },
  {
   "cell_type": "code",
   "execution_count": 38,
   "metadata": {
    "collapsed": false,
    "jupyter": {
     "outputs_hidden": false
    }
   },
   "outputs": [
    {
     "data": {
      "text/html": [
       "<div>\n",
       "<style scoped>\n",
       "    .dataframe tbody tr th:only-of-type {\n",
       "        vertical-align: middle;\n",
       "    }\n",
       "\n",
       "    .dataframe tbody tr th {\n",
       "        vertical-align: top;\n",
       "    }\n",
       "\n",
       "    .dataframe thead th {\n",
       "        text-align: right;\n",
       "    }\n",
       "</style>\n",
       "<table border=\"1\" class=\"dataframe\">\n",
       "  <thead>\n",
       "    <tr style=\"text-align: right;\">\n",
       "      <th></th>\n",
       "      <th>year</th>\n",
       "      <th>pop</th>\n",
       "      <th>life exp</th>\n",
       "      <th>gdppercap</th>\n",
       "      <th>continent</th>\n",
       "      <th>country</th>\n",
       "    </tr>\n",
       "  </thead>\n",
       "  <tbody>\n",
       "    <tr>\n",
       "      <td>0</td>\n",
       "      <td>1952</td>\n",
       "      <td>8425333</td>\n",
       "      <td>28.801</td>\n",
       "      <td>779.445314</td>\n",
       "      <td>asia</td>\n",
       "      <td>afghanistan</td>\n",
       "    </tr>\n",
       "    <tr>\n",
       "      <td>1</td>\n",
       "      <td>1957</td>\n",
       "      <td>9240934</td>\n",
       "      <td>30.332</td>\n",
       "      <td>820.853030</td>\n",
       "      <td>asia</td>\n",
       "      <td>afghanistan</td>\n",
       "    </tr>\n",
       "    <tr>\n",
       "      <td>3</td>\n",
       "      <td>1962</td>\n",
       "      <td>10267083</td>\n",
       "      <td>31.997</td>\n",
       "      <td>853.100710</td>\n",
       "      <td>asia</td>\n",
       "      <td>afghanistan</td>\n",
       "    </tr>\n",
       "    <tr>\n",
       "      <td>4</td>\n",
       "      <td>1967</td>\n",
       "      <td>11537966</td>\n",
       "      <td>34.020</td>\n",
       "      <td>836.197138</td>\n",
       "      <td>asia</td>\n",
       "      <td>afghanistan</td>\n",
       "    </tr>\n",
       "    <tr>\n",
       "      <td>5</td>\n",
       "      <td>1972</td>\n",
       "      <td>13079460</td>\n",
       "      <td>36.088</td>\n",
       "      <td>739.981106</td>\n",
       "      <td>asia</td>\n",
       "      <td>afghanistan</td>\n",
       "    </tr>\n",
       "  </tbody>\n",
       "</table>\n",
       "</div>"
      ],
      "text/plain": [
       "   year       pop  life exp   gdppercap continent      country\n",
       "0  1952   8425333    28.801  779.445314      asia  afghanistan\n",
       "1  1957   9240934    30.332  820.853030      asia  afghanistan\n",
       "3  1962  10267083    31.997  853.100710      asia  afghanistan\n",
       "4  1967  11537966    34.020  836.197138      asia  afghanistan\n",
       "5  1972  13079460    36.088  739.981106      asia  afghanistan"
      ]
     },
     "execution_count": 38,
     "metadata": {},
     "output_type": "execute_result"
    }
   ],
   "source": [
    "# Run this code to convert columns names to lowercase.\n",
    "gapminder3.columns = gapminder3.columns.str.lower()\n",
    "gapminder3.head()"
   ]
  },
  {
   "cell_type": "markdown",
   "metadata": {},
   "source": [
    "We also want to remove the space from the `life exp` column name. We can do that with the `rename` method. It takes a *dictionary* as its argument, with the old column names as keys and new column names as values.\n",
    "\n",
    "You're probably unfamiliar with dictionaries. They are a very useful data structure in Python, but we won't learn any more about them in this lesson. You can read more about them [here](https://docs.python.org/3/tutorial/datastructures.html#dictionaries)."
   ]
  },
  {
   "cell_type": "markdown",
   "metadata": {},
   "source": [
    "#### Run the following code to rename the `life exp` column."
   ]
  },
  {
   "cell_type": "code",
   "execution_count": 39,
   "metadata": {
    "collapsed": false,
    "jupyter": {
     "outputs_hidden": false
    }
   },
   "outputs": [
    {
     "data": {
      "text/html": [
       "<div>\n",
       "<style scoped>\n",
       "    .dataframe tbody tr th:only-of-type {\n",
       "        vertical-align: middle;\n",
       "    }\n",
       "\n",
       "    .dataframe tbody tr th {\n",
       "        vertical-align: top;\n",
       "    }\n",
       "\n",
       "    .dataframe thead th {\n",
       "        text-align: right;\n",
       "    }\n",
       "</style>\n",
       "<table border=\"1\" class=\"dataframe\">\n",
       "  <thead>\n",
       "    <tr style=\"text-align: right;\">\n",
       "      <th></th>\n",
       "      <th>year</th>\n",
       "      <th>pop</th>\n",
       "      <th>lifeexp</th>\n",
       "      <th>gdppercap</th>\n",
       "      <th>continent</th>\n",
       "      <th>country</th>\n",
       "    </tr>\n",
       "  </thead>\n",
       "  <tbody>\n",
       "    <tr>\n",
       "      <td>0</td>\n",
       "      <td>1952</td>\n",
       "      <td>8425333</td>\n",
       "      <td>28.801</td>\n",
       "      <td>779.445314</td>\n",
       "      <td>asia</td>\n",
       "      <td>afghanistan</td>\n",
       "    </tr>\n",
       "    <tr>\n",
       "      <td>1</td>\n",
       "      <td>1957</td>\n",
       "      <td>9240934</td>\n",
       "      <td>30.332</td>\n",
       "      <td>820.853030</td>\n",
       "      <td>asia</td>\n",
       "      <td>afghanistan</td>\n",
       "    </tr>\n",
       "    <tr>\n",
       "      <td>3</td>\n",
       "      <td>1962</td>\n",
       "      <td>10267083</td>\n",
       "      <td>31.997</td>\n",
       "      <td>853.100710</td>\n",
       "      <td>asia</td>\n",
       "      <td>afghanistan</td>\n",
       "    </tr>\n",
       "    <tr>\n",
       "      <td>4</td>\n",
       "      <td>1967</td>\n",
       "      <td>11537966</td>\n",
       "      <td>34.020</td>\n",
       "      <td>836.197138</td>\n",
       "      <td>asia</td>\n",
       "      <td>afghanistan</td>\n",
       "    </tr>\n",
       "    <tr>\n",
       "      <td>5</td>\n",
       "      <td>1972</td>\n",
       "      <td>13079460</td>\n",
       "      <td>36.088</td>\n",
       "      <td>739.981106</td>\n",
       "      <td>asia</td>\n",
       "      <td>afghanistan</td>\n",
       "    </tr>\n",
       "  </tbody>\n",
       "</table>\n",
       "</div>"
      ],
      "text/plain": [
       "   year       pop  lifeexp   gdppercap continent      country\n",
       "0  1952   8425333   28.801  779.445314      asia  afghanistan\n",
       "1  1957   9240934   30.332  820.853030      asia  afghanistan\n",
       "3  1962  10267083   31.997  853.100710      asia  afghanistan\n",
       "4  1967  11537966   34.020  836.197138      asia  afghanistan\n",
       "5  1972  13079460   36.088  739.981106      asia  afghanistan"
      ]
     },
     "execution_count": 39,
     "metadata": {},
     "output_type": "execute_result"
    }
   ],
   "source": [
    "# Run this code to rename the life exp column.\n",
    "gapminder3 = gapminder3.rename(columns={'life exp' : 'lifeexp'})\n",
    "gapminder3.head()"
   ]
  },
  {
   "cell_type": "markdown",
   "metadata": {},
   "source": [
    "***"
   ]
  },
  {
   "cell_type": "markdown",
   "metadata": {},
   "source": [
    "#### Explain why the data set at this point is tidy, or at least much tidier than it was before."
   ]
  },
  {
   "cell_type": "markdown",
   "metadata": {},
   "source": [
    "*Type your answer here.*"
   ]
  },
  {
   "cell_type": "markdown",
   "metadata": {},
   "source": [
    "***"
   ]
  },
  {
   "cell_type": "markdown",
   "metadata": {},
   "source": [
    "### Export tidy data file\n",
    "\n",
    "Now that we have a clean and tidy data set in a DataFrame, we want to export it and give it a new name so that we can refer to it and use it again later. The syntax is as follows:\n",
    "\n",
    "```\n",
    "DataFrame.to_csv(\"file_name_for_export.csv\", index = False)\n",
    "```\n",
    "\n",
    "(The argument `index = False` is necessary unless you want the index to appear as its own column in your exported CSV file.)"
   ]
  },
  {
   "cell_type": "markdown",
   "metadata": {},
   "source": [
    "#### Run the following code to export your clean and tidy DataFrame to a CSV file."
   ]
  },
  {
   "cell_type": "code",
   "execution_count": 40,
   "metadata": {
    "collapsed": false,
    "jupyter": {
     "outputs_hidden": false
    }
   },
   "outputs": [],
   "source": [
    "# Run this code to export the file gapminder_CandT.csv\n",
    "gapminder3.to_csv(\"gapminder_CandT.csv\", index = False)"
   ]
  },
  {
   "cell_type": "markdown",
   "metadata": {},
   "source": [
    "## Conclusion"
   ]
  },
  {
   "cell_type": "markdown",
   "metadata": {},
   "source": [
    "Now you know a little about the `pandas` library in Python. In particular, Python has a number of tools that make it relatively simple to clean and process data."
   ]
  },
  {
   "cell_type": "markdown",
   "metadata": {},
   "source": [
    "# Submit"
   ]
  },
  {
   "cell_type": "markdown",
   "metadata": {},
   "source": [
    "Choose File -> Download as HTML \n",
    "\n",
    "Submit this HTML file to canvas."
   ]
  }
 ],
 "metadata": {
  "anaconda-cloud": {},
  "kernelspec": {
   "display_name": "Python 3",
   "language": "python",
   "name": "python3"
  },
  "language_info": {
   "codemirror_mode": {
    "name": "ipython",
    "version": 3
   },
   "file_extension": ".py",
   "mimetype": "text/x-python",
   "name": "python",
   "nbconvert_exporter": "python",
   "pygments_lexer": "ipython3",
   "version": "3.7.4"
  }
 },
 "nbformat": 4,
 "nbformat_minor": 4
}
